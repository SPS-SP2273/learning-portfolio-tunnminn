{
 "cells": [
  {
   "cell_type": "code",
   "execution_count": 1,
   "id": "c6d1642b",
   "metadata": {},
   "outputs": [
    {
     "name": "stdout",
     "output_type": "stream",
     "text": [
      "Hello world\n"
     ]
    }
   ],
   "source": [
    "print('Hello world')"
   ]
  },
  {
   "cell_type": "markdown",
   "id": "015ebbce",
   "metadata": {},
   "source": [
    "# EXERCISE 1"
   ]
  },
  {
   "cell_type": "markdown",
   "id": "99312034",
   "metadata": {},
   "source": [
    "Brackets to call a function\n",
    "Brackets as a part of  mathematics functions\n",
    "square brackets as a function to indicate a list\n",
    "squiggly brackets{} used to indicate a dictionary\n",
    ". <- used for allocating the ownership to a function such as .append or .pop\n",
    "# used to indicate a comment and not a part of a code in python\n",
    "if and else functions \n",
    "usage of tabs to indicate a follow up from the previous line function such as in if, else, but needs to be followed prior by a colon :\n",
    "/n as new line for a sentence\n",
    "// as backslash\n",
    "/t as a tab space between strings\n",
    "*/' inputs a single quote in the string*\n",
    "importing libraries such as numpy to execute specific mathematic functions since python in itself without such libraries is incapable of executing specific mathematic functions such as sqrt()\n",
    "= is not the same as =="
   ]
  },
  {
   "cell_type": "markdown",
   "id": "f903e946",
   "metadata": {},
   "source": [
    "# EXERCISE 2"
   ]
  },
  {
   "cell_type": "code",
   "execution_count": 7,
   "id": "f4fb817d",
   "metadata": {},
   "outputs": [
    {
     "name": "stdout",
     "output_type": "stream",
     "text": [
      "3 4 3.7416573867739413\n"
     ]
    }
   ],
   "source": [
    "x, y = 3, 4\n",
    "z = np.sqrt(x*2 + y*2)\n",
    "print(x, y, z)"
   ]
  },
  {
   "cell_type": "markdown",
   "id": "522828d4",
   "metadata": {},
   "source": [
    "# EXERCISE 3"
   ]
  },
  {
   "cell_type": "markdown",
   "id": "f6174ff7",
   "metadata": {},
   "source": [
    "Functions: refers to executing functions relating to strings, variables etc\n",
    "Arguments: \n",
    "Comments: Comments are indicated using # which allows for a line to indicate a comment without executing the code\n",
    "Indentations: Used to split blocks that carry the output of True or False from the functions executed.\n",
    "Packages: To improve the python usage through introduction of specific features such as mathematical functions and graph plotting\n",
    ". : allocates the function after to the variable before"
   ]
  },
  {
   "cell_type": "markdown",
   "id": "36cdd1b4",
   "metadata": {},
   "source": [
    "# EXERCISE 4"
   ]
  },
  {
   "cell_type": "code",
   "execution_count": 11,
   "id": "0d622f90",
   "metadata": {},
   "outputs": [
    {
     "data": {
      "text/plain": [
       "1"
      ]
     },
     "execution_count": 11,
     "metadata": {},
     "output_type": "execute_result"
    }
   ],
   "source": [
    "5/2 #gives the answer as a float\n",
    "5//2 #gives the answer as a integer\n",
    "5%2 #gives the remainder of the division"
   ]
  }
 ],
 "metadata": {
  "kernelspec": {
   "display_name": "Python 3 (ipykernel)",
   "language": "python",
   "name": "python3"
  },
  "language_info": {
   "codemirror_mode": {
    "name": "ipython",
    "version": 3
   },
   "file_extension": ".py",
   "mimetype": "text/x-python",
   "name": "python",
   "nbconvert_exporter": "python",
   "pygments_lexer": "ipython3",
   "version": "3.10.8"
  },
  "toc": {
   "base_numbering": 1,
   "nav_menu": {},
   "number_sections": true,
   "sideBar": true,
   "skip_h1_title": false,
   "title_cell": "Table of Contents",
   "title_sidebar": "Contents",
   "toc_cell": false,
   "toc_position": {},
   "toc_section_display": true,
   "toc_window_display": false
  },
  "varInspector": {
   "cols": {
    "lenName": 16,
    "lenType": 16,
    "lenVar": 40
   },
   "kernels_config": {
    "python": {
     "delete_cmd_postfix": "",
     "delete_cmd_prefix": "del ",
     "library": "var_list.py",
     "varRefreshCmd": "print(var_dic_list())"
    },
    "r": {
     "delete_cmd_postfix": ") ",
     "delete_cmd_prefix": "rm(",
     "library": "var_list.r",
     "varRefreshCmd": "cat(var_dic_list()) "
    }
   },
   "types_to_exclude": [
    "module",
    "function",
    "builtin_function_or_method",
    "instance",
    "_Feature"
   ],
   "window_display": false
  }
 },
 "nbformat": 4,
 "nbformat_minor": 5
}
