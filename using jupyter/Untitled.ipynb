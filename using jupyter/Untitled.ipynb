{
 "cells": [
  {
   "cell_type": "markdown",
   "id": "e31c6b1c",
   "metadata": {},
   "source": [
    "print ('Hello world')"
   ]
  },
  {
   "cell_type": "markdown",
   "id": "2399fa78",
   "metadata": {},
   "source": [
    "The ships hung in the sky in much the same way that bricks don’t.\n",
    "The ships *hung in the sky* in much the same way that **bricks don’t.**<sup>1</sup><sub>QUOTE</sub>\n",
    "\n",
    "```python\n",
    "print('hello world')\n",
    "```\n"
   ]
  },
  {
   "cell_type": "markdown",
   "id": "c8a7261d",
   "metadata": {},
   "source": [
    "[SP2273 Website](https://sps.nus.edu.sg/sp2273)"
   ]
  },
  {
   "cell_type": "markdown",
   "id": "318c01d1",
   "metadata": {},
   "source": [
    "![](https://nus.edu.sg/images/default-source/base/logo.png)\n"
   ]
  },
  {
   "cell_type": "markdown",
   "id": "00e80eac",
   "metadata": {},
   "source": [
    "| A    |  B   |    C |\n",
    "| :--- | :--: | ---: |\n",
    "| a1   |  b1  |   c1 |\n",
    "| a2   |  b2  |   c2 |\n",
    "| a3   |  b3  |   c3 |"
   ]
  },
  {
   "cell_type": "markdown",
   "id": "3c3d3970",
   "metadata": {},
   "source": [
    "1. Master Yoda\n",
    "1. Luke Skywalker\n",
    "1. Anakin Skywalker\n",
    "\n",
    "- Master Yoda\n",
    "- Luke Skywalker\n",
    "- Anakin Skywalker\n",
    "\n",
    "1. Master Yoda\n",
    "   1. Was a Jedi\n",
    "   1. Was a bit green\n",
    "1. Luke Skywalker\n",
    "   1. Was a Jedi\n",
    "   1. Is Anakin's son.\n",
    "1. Anakin Skywalker\n",
    "   1. Was a Jedi then became a baddie\n",
    "   1. Is famous for saying 'Luke, I am your father'\n",
    "   \n",
    "1. Master Yoda\n",
    "   - Was a Jedi\n",
    "   - Was a bit green\n",
    "2. Luke Skywalker\n",
    "   - Was a Jedi\n",
    "   - Is Anakin's son.\n",
    "3. Anakin Skywalker\n",
    "   - Was a Jedi then became a baddie\n",
    "   - Is famous for saying 'Luke, I am your father'\n",
    "  "
   ]
  },
  {
   "cell_type": "markdown",
   "id": "72e1b98c",
   "metadata": {},
   "source": [
    "$$\n",
    "x = \\dfrac{-b \\pm \\sqrt{b^2-4ac}}{2a}\n",
    "$$"
   ]
  },
  {
   "cell_type": "markdown",
   "id": "5ff2332e",
   "metadata": {},
   "source": [
    "**Quadratic Equations**\n",
    "\n",
    "![](https://upload.wikimedia.org/wikipedia/commons/thumb/f/f8/Polynomialdeg2.svg/1024px-Polynomialdeg2.svg.png)\n",
    "\n",
    "(Image from [Wikipedia page on Quadratic equations](https://en.wikipedia.org/wiki/Quadratic_equation)\n",
    "\n",
    "**Introduction**\n",
    "\n",
    "The general form of a quadratic equation:\n",
    "\n",
    "$$\n",
    "ax^2 + bx + c = 0\n",
    "$$\n",
    "\n",
    "**Solutions** Provided a/ne 0 , we can use and elementary algebraic method called [completing the square](https://en.wikipedia.org/wiki/Completing_the_square) to show that a quadratic equation has the following solution:\n",
    "\n",
    "$$\n",
    "x = \\dfrac{-b \\pm \\sqrt{b^2-4ac}}{2a}\n",
    "$$\n",
    "\n",
    "**DISCRIMINANT**\n",
    "The quantity $\\Delta= b^2 - 4ac$ is called the **discriminant** of the equation and decides the nature of its solutions. The table below shows the various possibilities:\n",
    "\n",
    "|**Discriminant**         |**Roots**                         |\n",
    "|:--                      |                               --:|\n",
    "|$\\Delta= b^2 - 4ac=0$    |a single solution of -b/(2a)      |\n",
    "|$\\Delta= b^2 - 4ac \\gt 0$|Two distinct solutions            |\n",
    "|$\\Delta= b^2 - 4ac \\lt 0$|No real solutions;both are complex|"
   ]
  },
  {
   "cell_type": "markdown",
   "id": "266517d5",
   "metadata": {},
   "source": [
    "1: A repository is a folder on a cloud server that holds information and can be updated in real-time\n",
    "2: Git keeps track of changes in our repository\n",
    "3: Commit refers to the allowing a change in file or folder to be recorded\n",
    "4: Push refers to pushing the changes committed within the desktop github onto the browser and cloud system\n",
    "5: "
   ]
  }
 ],
 "metadata": {
  "kernelspec": {
   "display_name": "Python 3 (ipykernel)",
   "language": "python",
   "name": "python3"
  },
  "language_info": {
   "codemirror_mode": {
    "name": "ipython",
    "version": 3
   },
   "file_extension": ".py",
   "mimetype": "text/x-python",
   "name": "python",
   "nbconvert_exporter": "python",
   "pygments_lexer": "ipython3",
   "version": "3.10.8"
  }
 },
 "nbformat": 4,
 "nbformat_minor": 5
}
