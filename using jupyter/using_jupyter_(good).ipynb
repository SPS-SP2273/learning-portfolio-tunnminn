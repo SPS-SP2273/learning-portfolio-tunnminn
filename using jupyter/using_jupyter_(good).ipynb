{
 "cells": [
  {
   "cell_type": "markdown",
   "id": "123456",
   "metadata": {},
   "source": [
    "<div style=\"text-align:left;font-size:2em\"><span style=\"font-weight:bolder;font-size:1.25em\">SP2273 | Learning Portfolio</span><br><br><span style=\"font-weight:bold;color:darkred\">Using Jupyter (Good)</span></div>"
   ]
  },
  {
   "cell_type": "markdown",
   "id": "23e297a6",
   "metadata": {},
   "source": [
    "## 1 Some tips and tricks"
   ]
  },
  {
   "cell_type": "markdown",
   "id": "252b5eda",
   "metadata": {},
   "source": [
    "### 1.1 Keyboard Shortcuts"
   ]
  },
  {
   "cell_type": "markdown",
   "id": "0378c9c7",
   "metadata": {},
   "source": [
    "Run cell: Cmd + Enter\n",
    "Run cell and move to next: Shift + Enter\n",
    "Convert to code cell: Esc + Y\n",
    "Convert to markdown cell: Esc + M\n",
    "Create new cell: Esc + A(above)/B(below)\n",
    "Copy cells: Esc + C\n",
    "Paste cells: Esc + V\n",
    "Merge cells: Esc + M\n",
    "Delete cells: Esc + D + D\n",
    "Show shortcuts: Esc + H"
   ]
  },
  {
   "cell_type": "markdown",
   "id": "f1fa5f42",
   "metadata": {},
   "source": [
    "### 1.2 Shell commands"
   ]
  },
  {
   "cell_type": "code",
   "execution_count": 1,
   "id": "6d0f6537",
   "metadata": {},
   "outputs": [
    {
     "name": "stdout",
     "output_type": "stream",
     "text": [
      "/Users/tunmin/Documents/GitHub/learning-portfolio-tunnminn/using jupyter\r\n"
     ]
    }
   ],
   "source": [
    "!pwd"
   ]
  },
  {
   "cell_type": "code",
   "execution_count": 2,
   "id": "59c624c8",
   "metadata": {},
   "outputs": [
    {
     "name": "stdout",
     "output_type": "stream",
     "text": [
      "Python Basics.ipynb        using_jupyter_(good).ipynb\r\n",
      "Untitled.ipynb             using_jupyter_(need).ipynb\r\n"
     ]
    }
   ],
   "source": [
    "!ls"
   ]
  },
  {
   "cell_type": "markdown",
   "id": "7c12fd67",
   "metadata": {},
   "source": [
    "## 2 Jupyter Extensions"
   ]
  },
  {
   "cell_type": "markdown",
   "id": "6b8cf210",
   "metadata": {},
   "source": [
    "### 2.1 Installing the extensions"
   ]
  },
  {
   "cell_type": "code",
   "execution_count": 3,
   "id": "0eff899c",
   "metadata": {},
   "outputs": [
    {
     "name": "stdout",
     "output_type": "stream",
     "text": [
      "Collecting package metadata (current_repodata.json): done\n",
      "Solving environment: done\n",
      "\n",
      "# All requested packages already installed.\n",
      "\n"
     ]
    }
   ],
   "source": [
    "\n",
    "# Your code here\n",
    "!conda install -c conda-forge jupyter_contrib_nbextensions"
   ]
  },
  {
   "cell_type": "markdown",
   "id": "b90794f6",
   "metadata": {},
   "source": [
    "### 2.2 Enabling the extensions"
   ]
  },
  {
   "cell_type": "code",
   "execution_count": 4,
   "id": "6bea4160",
   "metadata": {},
   "outputs": [
    {
     "name": "stdout",
     "output_type": "stream",
     "text": [
      "Requirement already satisfied: Autopep8 in /Users/tunmin/miniconda3/lib/python3.10/site-packages (2.0.1)\r\n",
      "Requirement already satisfied: pycodestyle>=2.10.0 in /Users/tunmin/miniconda3/lib/python3.10/site-packages (from Autopep8) (2.10.0)\r\n",
      "Requirement already satisfied: tomli in /Users/tunmin/miniconda3/lib/python3.10/site-packages (from Autopep8) (2.0.1)\r\n"
     ]
    }
   ],
   "source": [
    "\n",
    "# Your code here\n",
    "!pip install Autopep8"
   ]
  },
  {
   "cell_type": "markdown",
   "id": "9f9fd66a",
   "metadata": {},
   "source": [
    "## 3 Shell Magic"
   ]
  },
  {
   "cell_type": "markdown",
   "id": "4ab3ec76",
   "metadata": {},
   "source": [
    "## 4 The Kernel"
   ]
  },
  {
   "cell_type": "markdown",
   "id": "91b5ce84",
   "metadata": {},
   "source": [
    "## Exercise 1 :  A new shortcut"
   ]
  },
  {
   "cell_type": "markdown",
   "id": "919b11a9",
   "metadata": {},
   "source": [
    "\n",
    "short cut for ending kernal and restarting \n",
    "9,9\n",
    "for ending kernal \n",
    "0,-\n"
   ]
  }
 ],
 "metadata": {
  "kernelspec": {
   "display_name": "Python 3 (ipykernel)",
   "language": "python",
   "name": "python3"
  },
  "language_info": {
   "codemirror_mode": {
    "name": "ipython",
    "version": 3
   },
   "file_extension": ".py",
   "mimetype": "text/x-python",
   "name": "python",
   "nbconvert_exporter": "python",
   "pygments_lexer": "ipython3",
   "version": "3.10.8"
  },
  "toc": {
   "base_numbering": 1,
   "nav_menu": {},
   "number_sections": true,
   "sideBar": true,
   "skip_h1_title": false,
   "title_cell": "Table of Contents",
   "title_sidebar": "Contents",
   "toc_cell": false,
   "toc_position": {},
   "toc_section_display": true,
   "toc_window_display": false
  },
  "varInspector": {
   "cols": {
    "lenName": 16,
    "lenType": 16,
    "lenVar": 40
   },
   "kernels_config": {
    "python": {
     "delete_cmd_postfix": "",
     "delete_cmd_prefix": "del ",
     "library": "var_list.py",
     "varRefreshCmd": "print(var_dic_list())"
    },
    "r": {
     "delete_cmd_postfix": ") ",
     "delete_cmd_prefix": "rm(",
     "library": "var_list.r",
     "varRefreshCmd": "cat(var_dic_list()) "
    }
   },
   "types_to_exclude": [
    "module",
    "function",
    "builtin_function_or_method",
    "instance",
    "_Feature"
   ],
   "window_display": false
  },
  "vscode": {
   "interpreter": {
    "hash": "31f2aee4e71d21fbe5cf8b01ff0e069b9275f58929596ceb00d14d90e3e16cd6"
   }
  }
 },
 "nbformat": 4,
 "nbformat_minor": 5
}
