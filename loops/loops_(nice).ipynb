{
 "cells": [
  {
   "cell_type": "markdown",
   "id": "123456",
   "metadata": {},
   "source": [
    "<div style=\"text-align:left;font-size:2em\"><span style=\"font-weight:bolder;font-size:1.25em\">SP2273 | Learning Portfolio</span><br><br><span style=\"font-weight:bold;color:darkred\">Loops (Nice)</span></div>"
   ]
  },
  {
   "cell_type": "markdown",
   "id": "b0066017",
   "metadata": {},
   "source": [
    "## 1 There is more…"
   ]
  },
  {
   "cell_type": "markdown",
   "id": "9fa6ad07",
   "metadata": {},
   "source": [
    "### 1.1 There is more to list comprehension"
   ]
  },
  {
   "cell_type": "code",
   "execution_count": 3,
   "id": "b7fd6f54",
   "metadata": {},
   "outputs": [
    {
     "data": {
      "text/plain": [
       "[[0, 'A'],\n",
       " [0, 'B'],\n",
       " [0, 'C'],\n",
       " [1, 'A'],\n",
       " [1, 'B'],\n",
       " [1, 'C'],\n",
       " [2, 'A'],\n",
       " [2, 'B'],\n",
       " [2, 'C'],\n",
       " [3, 'A'],\n",
       " [3, 'B'],\n",
       " [3, 'C'],\n",
       " [4, 'A'],\n",
       " [4, 'B'],\n",
       " [4, 'C']]"
      ]
     },
     "execution_count": 3,
     "metadata": {},
     "output_type": "execute_result"
    }
   ],
   "source": [
    "[[a, b] for a in range(5) for b in ['A', 'B', 'C']]\n"
   ]
  },
  {
   "cell_type": "code",
   "execution_count": 4,
   "id": "198553ef",
   "metadata": {},
   "outputs": [
    {
     "data": {
      "text/plain": [
       "[[1, 'A'], [1, 'B'], [1, 'C'], [3, 'A'], [3, 'B'], [3, 'C']]"
      ]
     },
     "execution_count": 4,
     "metadata": {},
     "output_type": "execute_result"
    }
   ],
   "source": [
    "[[a,b] for a in range(5) for b in ['A', 'B', 'C'] if a % 2 != 0]"
   ]
  },
  {
   "cell_type": "code",
   "execution_count": 8,
   "id": "c6187696",
   "metadata": {},
   "outputs": [
    {
     "data": {
      "text/plain": [
       "[1, 2, 3, 4, 5, 6, 7]"
      ]
     },
     "execution_count": 8,
     "metadata": {},
     "output_type": "execute_result"
    }
   ],
   "source": [
    "nested_list=[[1, 2, 3], [4, 5, 6, 7]]\n",
    "[x for y in nested_list for x in y]"
   ]
  },
  {
   "cell_type": "markdown",
   "id": "2aab8517",
   "metadata": {},
   "source": [
    "### 1.2 Zipping a dictionary"
   ]
  },
  {
   "cell_type": "code",
   "execution_count": 2,
   "id": "0f4fd186",
   "metadata": {},
   "outputs": [
    {
     "data": {
      "text/plain": [
       "{'Natasha Romanoff': 'Black Widow',\n",
       " 'Tony Stark': 'Iron Man',\n",
       " 'Stephen Strange': 'Doctor Strange'}"
      ]
     },
     "execution_count": 2,
     "metadata": {},
     "output_type": "execute_result"
    }
   ],
   "source": [
    "super_names=[\"Black Widow\", \"Iron Man\", \"Doctor Strange\"]\n",
    "real_names=[\"Natasha Romanoff\", \"Tony Stark\", \"Stephen Strange\"]\n",
    "\n",
    "dict(zip(real_names, super_names))"
   ]
  },
  {
   "cell_type": "code",
   "execution_count": 3,
   "id": "0a5a2436",
   "metadata": {},
   "outputs": [
    {
     "name": "stdout",
     "output_type": "stream",
     "text": [
      "[('Natasha Romanoff', 'Black Widow'), ('Tony Stark', 'Iron Man'), ('Stephen Strange', 'Doctor Strange')]\n"
     ]
    }
   ],
   "source": [
    "print(list(zip(real_names, super_names)))"
   ]
  },
  {
   "cell_type": "markdown",
   "id": "e45505fe",
   "metadata": {},
   "source": [
    "### 1.3 for and while has an else"
   ]
  },
  {
   "cell_type": "code",
   "execution_count": 11,
   "id": "f4765313",
   "metadata": {},
   "outputs": [
    {
     "name": "stdout",
     "output_type": "stream",
     "text": [
      "No negative numbers in the list\n"
     ]
    }
   ],
   "source": [
    "numbers=[0, 1, 2, 3, 4, 5, 6, 7, 8, 9]\n",
    "\n",
    "for i in numbers:\n",
    "    if i < 0: break\n",
    "else:\n",
    "    print('No negative numbers in the list')\n"
   ]
  },
  {
   "cell_type": "markdown",
   "id": "bf8546ae",
   "metadata": {},
   "source": [
    "## Explore 1 :  Changing a list"
   ]
  },
  {
   "cell_type": "code",
   "execution_count": 51,
   "id": "958e7cee",
   "metadata": {},
   "outputs": [
    {
     "name": "stdout",
     "output_type": "stream",
     "text": [
      "['apple', 'banana', 'jackfruit', 'watermelons', 'durian', 'mangoes', 'strawberries']\n"
     ]
    }
   ],
   "source": [
    "fruits = [\"apple\", \"banana\", \"jackfruit\",\n",
    "          \"pineapple\", \"papaya\", \"watermelons\",\n",
    "          \"peaches\", \"durian\",  \"mangoes\",\n",
    "          \"strawberries\", \"passionfruit\"\n",
    "          ]\n",
    "for i in range(10,-1,-1):\n",
    "    for fruit in fruits:\n",
    "        if fruit[0] =='p':\n",
    "            fruits.remove(fruit)\n",
    "print(fruits)"
   ]
  },
  {
   "cell_type": "markdown",
   "id": "db66287a",
   "metadata": {},
   "source": [
    "## Explore 2 :  A list of power"
   ]
  },
  {
   "cell_type": "code",
   "execution_count": 87,
   "id": "bb991786",
   "metadata": {},
   "outputs": [
    {
     "ename": "IndexError",
     "evalue": "list index out of range",
     "output_type": "error",
     "traceback": [
      "\u001b[0;31m---------------------------------------------------------------------------\u001b[0m",
      "\u001b[0;31mIndexError\u001b[0m                                Traceback (most recent call last)",
      "Cell \u001b[0;32mIn[87], line 5\u001b[0m\n\u001b[1;32m      2\u001b[0m result \u001b[38;5;241m=\u001b[39m []\u001b[38;5;241m*\u001b[39m\u001b[38;5;241m5\u001b[39m\n\u001b[1;32m      4\u001b[0m \u001b[38;5;28;01mfor\u001b[39;00m n \u001b[38;5;129;01min\u001b[39;00m \u001b[38;5;28mrange\u001b[39m(\u001b[38;5;241m1\u001b[39m,maximum_n \u001b[38;5;241m+\u001b[39m \u001b[38;5;241m1\u001b[39m):\n\u001b[0;32m----> 5\u001b[0m     \u001b[43mresult\u001b[49m\u001b[43m[\u001b[49m\u001b[43mn\u001b[49m\u001b[38;5;241;43m-\u001b[39;49m\u001b[38;5;241;43m1\u001b[39;49m\u001b[43m]\u001b[49m\u001b[38;5;241m.\u001b[39mappend(n)\n\u001b[1;32m      6\u001b[0m     result[n\u001b[38;5;241m-\u001b[39m\u001b[38;5;241m1\u001b[39m]\u001b[38;5;241m.\u001b[39mappend(n\u001b[38;5;241m*\u001b[39m\u001b[38;5;241m*\u001b[39m\u001b[38;5;241m2\u001b[39m)\n\u001b[1;32m      7\u001b[0m     result[n\u001b[38;5;241m-\u001b[39m\u001b[38;5;241m1\u001b[39m]\u001b[38;5;241m.\u001b[39mappend(n\u001b[38;5;241m*\u001b[39m\u001b[38;5;241m*\u001b[39m\u001b[38;5;241m3\u001b[39m)\n",
      "\u001b[0;31mIndexError\u001b[0m: list index out of range"
     ]
    }
   ],
   "source": [
    "maximum_n = 5\n",
    "result = []*5\n",
    "\n",
    "for n in range(1,maximum_n + 1):\n",
    "    result[n-1].append(n)\n",
    "    result[n-1].append(n**2)\n",
    "    result[n-1].append(n**3)\n",
    "    \n",
    "result"
   ]
  },
  {
   "cell_type": "code",
   "execution_count": 94,
   "id": "51e137db",
   "metadata": {},
   "outputs": [
    {
     "data": {
      "text/plain": [
       "[[1, 1, 1], [2, 4, 8], [3, 9, 27], [4, 16, 64], [5, 25, 125]]"
      ]
     },
     "execution_count": 94,
     "metadata": {},
     "output_type": "execute_result"
    }
   ],
   "source": [
    "maximum_n = 5\n",
    "result = []\n",
    "\n",
    "for n in range (1, maximum_n+1):\n",
    "    x = [n, n**2, n**3]\n",
    "    result.append(x)   #appends all the different lists to result [] instead of iterating it 5 times and running through the for loop 5 times.\n",
    "    \n",
    "result"
   ]
  },
  {
   "cell_type": "markdown",
   "id": "def890bb",
   "metadata": {},
   "source": [
    "## Explore 3 :  Time profiling"
   ]
  },
  {
   "cell_type": "code",
   "execution_count": 104,
   "id": "e815fd15",
   "metadata": {},
   "outputs": [
    {
     "data": {
      "text/plain": [
       "[0, 1, 4, 9, 16, 25, 36, 49, 64, 81]"
      ]
     },
     "execution_count": 104,
     "metadata": {},
     "output_type": "execute_result"
    }
   ],
   "source": [
    "list = []\n",
    "\n",
    "for i in range(10):\n",
    "    list.append(i**2)\n",
    "    \n",
    "list"
   ]
  },
  {
   "cell_type": "code",
   "execution_count": null,
   "id": "51337b17",
   "metadata": {},
   "outputs": [],
   "source": [
    "set=[]\n",
    "while i<10:\n",
    "    set.append(i**2)\n",
    "set"
   ]
  },
  {
   "cell_type": "code",
   "execution_count": 106,
   "id": "dfea3716",
   "metadata": {},
   "outputs": [
    {
     "name": "stdout",
     "output_type": "stream",
     "text": [
      "1.95 µs ± 11 ns per loop (mean ± std. dev. of 7 runs, 100,000 loops each)\n"
     ]
    }
   ],
   "source": [
    "%%timeit\n",
    "[a**2 for a in range(10)]"
   ]
  }
 ],
 "metadata": {
  "kernelspec": {
   "display_name": "Python 3 (ipykernel)",
   "language": "python",
   "name": "python3"
  },
  "language_info": {
   "codemirror_mode": {
    "name": "ipython",
    "version": 3
   },
   "file_extension": ".py",
   "mimetype": "text/x-python",
   "name": "python",
   "nbconvert_exporter": "python",
   "pygments_lexer": "ipython3",
   "version": "3.10.8"
  },
  "toc": {
   "base_numbering": 1,
   "nav_menu": {},
   "number_sections": true,
   "sideBar": true,
   "skip_h1_title": false,
   "title_cell": "Table of Contents",
   "title_sidebar": "Contents",
   "toc_cell": false,
   "toc_position": {},
   "toc_section_display": true,
   "toc_window_display": false
  },
  "varInspector": {
   "cols": {
    "lenName": 16,
    "lenType": 16,
    "lenVar": 40
   },
   "kernels_config": {
    "python": {
     "delete_cmd_postfix": "",
     "delete_cmd_prefix": "del ",
     "library": "var_list.py",
     "varRefreshCmd": "print(var_dic_list())"
    },
    "r": {
     "delete_cmd_postfix": ") ",
     "delete_cmd_prefix": "rm(",
     "library": "var_list.r",
     "varRefreshCmd": "cat(var_dic_list()) "
    }
   },
   "types_to_exclude": [
    "module",
    "function",
    "builtin_function_or_method",
    "instance",
    "_Feature"
   ],
   "window_display": false
  },
  "vscode": {
   "interpreter": {
    "hash": "31f2aee4e71d21fbe5cf8b01ff0e069b9275f58929596ceb00d14d90e3e16cd6"
   }
  }
 },
 "nbformat": 4,
 "nbformat_minor": 5
}
