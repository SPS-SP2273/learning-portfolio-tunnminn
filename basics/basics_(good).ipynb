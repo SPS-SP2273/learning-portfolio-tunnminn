{
 "cells": [
  {
   "cell_type": "markdown",
   "id": "123456",
   "metadata": {},
   "source": [
    "<div style=\"text-align:left;font-size:2em\"><span style=\"font-weight:bolder;font-size:1.25em\">SP2273 | Learning Portfolio</span><br><br><span style=\"font-weight:bold;color:darkred\">Basics (Good)</span></div>"
   ]
  },
  {
   "cell_type": "markdown",
   "id": "81b7cf16",
   "metadata": {},
   "source": [
    "## 1 More Python Basics"
   ]
  },
  {
   "cell_type": "markdown",
   "id": "0c671e80",
   "metadata": {},
   "source": [
    "### 1.1 Computers read = from Right to Left!"
   ]
  },
  {
   "cell_type": "code",
   "execution_count": 3,
   "id": "9dd405d6",
   "metadata": {},
   "outputs": [
    {
     "name": "stdout",
     "output_type": "stream",
     "text": [
      "40 42\n",
      "10 10\n"
     ]
    }
   ],
   "source": [
    "x = 40\n",
    "y = x + 2\n",
    "print(x, y)\n",
    "\n",
    "x = y  = 10\n",
    "print(x, y)"
   ]
  },
  {
   "cell_type": "markdown",
   "id": "4c1912e2",
   "metadata": {},
   "source": [
    "### 1.2 Shorter and cleaner"
   ]
  },
  {
   "cell_type": "code",
   "execution_count": 8,
   "id": "b1c25daf",
   "metadata": {},
   "outputs": [
    {
     "data": {
      "text/plain": [
       "80"
      ]
     },
     "execution_count": 8,
     "metadata": {},
     "output_type": "execute_result"
    }
   ],
   "source": [
    "y =40 \n",
    "y += 2\n",
    "y\n",
    "\n",
    "x = 40\n",
    "x-= 2\n",
    "x\n",
    "\n",
    "z = 40\n",
    "z/=2\n",
    "z\n",
    "\n",
    "b=40\n",
    "b*=2\n",
    "b"
   ]
  },
  {
   "cell_type": "markdown",
   "id": "77bc318e",
   "metadata": {},
   "source": [
    "### 1.3 Asking questions"
   ]
  },
  {
   "cell_type": "code",
   "execution_count": 15,
   "id": "a14f4ff9",
   "metadata": {},
   "outputs": [
    {
     "data": {
      "text/plain": [
       "True"
      ]
     },
     "execution_count": 15,
     "metadata": {},
     "output_type": "execute_result"
    }
   ],
   "source": [
    "fruits = [\"apple\", \"banana\", \"pineapple\", \"jackfruit\"]\n",
    "vegetables = [\"celery\", \"potato\", \"broccoli\", \"kale\"]\n",
    "\n",
    "\"apple\" in fruits\n",
    "\"peach\" in fruits\n",
    "\"peach\" not in fruits\n",
    "(\"apple\" in fruits) and (\"celery\" in vegetables)\n",
    "(\"apple\" in fruits) or (\"celery\" in vegetables)\n",
    "\n",
    "len(fruits) >= len(vegetables)"
   ]
  },
  {
   "cell_type": "markdown",
   "id": "f5440805",
   "metadata": {},
   "source": [
    "### 1.4 There is more to if"
   ]
  },
  {
   "cell_type": "code",
   "execution_count": 20,
   "id": "af659129",
   "metadata": {},
   "outputs": [
    {
     "name": "stdout",
     "output_type": "stream",
     "text": [
      "Hello Hero | Batman!\n"
     ]
    }
   ],
   "source": [
    "name = 'Batman'\n",
    "\n",
    "if name == 'Batman':\n",
    "    print('Hello Hero | Batman!')\n",
    "elif name =='Robin':\n",
    "    print('Hello Sidekick|Robin')\n",
    "else:\n",
    "    print('Hello world!')"
   ]
  },
  {
   "cell_type": "markdown",
   "id": "b789826e",
   "metadata": {},
   "source": [
    "### 1.5 Python stores information in different formats or types."
   ]
  },
  {
   "cell_type": "code",
   "execution_count": 24,
   "id": "6beb33b9",
   "metadata": {},
   "outputs": [
    {
     "name": "stdout",
     "output_type": "stream",
     "text": [
      "1 <class 'int'>\n",
      "1.234 <class 'str'>\n",
      "1.234 <class 'float'>\n"
     ]
    }
   ],
   "source": [
    "x = int(1.234)\n",
    "print(x, type(x))\n",
    "\n",
    "s = str(1.234)\n",
    "print(s, type(s))\n",
    "\n",
    "z = float(1.234)\n",
    "print(z, type(z))"
   ]
  },
  {
   "cell_type": "markdown",
   "id": "52af2fb8",
   "metadata": {},
   "source": [
    "### 1.6 Combining English and variables"
   ]
  },
  {
   "cell_type": "code",
   "execution_count": 6,
   "id": "0be2f337",
   "metadata": {},
   "outputs": [
    {
     "name": "stdout",
     "output_type": "stream",
     "text": [
      "Hello Batman!\n"
     ]
    }
   ],
   "source": [
    "name = \"Batman\"\n",
    "print (f\"Hello {name}!\")\n"
   ]
  },
  {
   "cell_type": "code",
   "execution_count": 9,
   "id": "8f23e19c",
   "metadata": {},
   "outputs": [
    {
     "name": "stdout",
     "output_type": "stream",
     "text": [
      "The value of 10 squared is 100\n"
     ]
    }
   ],
   "source": [
    "x = 10\n",
    "print(f\"The value of {x} squared is {x**2}\")"
   ]
  },
  {
   "cell_type": "code",
   "execution_count": 6,
   "id": "07c8d634",
   "metadata": {},
   "outputs": [
    {
     "name": "stdout",
     "output_type": "stream",
     "text": [
      "         Bruce Wayne is Batman\n",
      "    Bruce Wayne is Batman     \n",
      "Bruce Wayne is Batman         \n",
      ">>>>>>>>>>>>>>>>>>>Bruce Wayne is Batman\n",
      "Bruce Wayne is Batman<<<<<<<<<<<<<<<<<<<\n",
      "^^^^^^^^^Bruce Wayne is Batman^^^^^^^^^^\n"
     ]
    }
   ],
   "source": [
    "text = 'Bruce Wayne is Batman'\n",
    "print(f'{text:>30}')\n",
    "print(f'{text:^30}')\n",
    "print(f'{text:<30}')\n",
    "print(f'{text:>>40}')\n",
    "print(f'{text:<<40}')\n",
    "print(f'{text:^^40}')"
   ]
  },
  {
   "cell_type": "code",
   "execution_count": 15,
   "id": "db55ad88",
   "metadata": {},
   "outputs": [
    {
     "name": "stdout",
     "output_type": "stream",
     "text": [
      "The cube of pi to 6 decimal places is 31.006277\n",
      "The cube of pi tp 6 dp is also 3.100628e+01\n"
     ]
    }
   ],
   "source": [
    "print(f'The cube of pi to 6 decimal places is {np.pi**3.:6f}')\n",
    "print(f'The cube of pi tp 6 dp is also {np.pi**3.:6e}')"
   ]
  },
  {
   "cell_type": "markdown",
   "id": "86ea9cd2",
   "metadata": {},
   "source": [
    "### 1.7 Python can be a prima-donna."
   ]
  },
  {
   "cell_type": "code",
   "execution_count": 1,
   "id": "a53fac59",
   "metadata": {},
   "outputs": [
    {
     "ename": "NameError",
     "evalue": "name 'Print' is not defined",
     "output_type": "error",
     "traceback": [
      "\u001b[0;31m---------------------------------------------------------------------------\u001b[0m",
      "\u001b[0;31mNameError\u001b[0m                                 Traceback (most recent call last)",
      "Cell \u001b[0;32mIn[1], line 1\u001b[0m\n\u001b[0;32m----> 1\u001b[0m \u001b[43mPrint\u001b[49m()   \u001b[38;5;66;03m#Python does not recognise the function Print() since it is case sensitive and recognises print()\u001b[39;00m\n",
      "\u001b[0;31mNameError\u001b[0m: name 'Print' is not defined"
     ]
    }
   ],
   "source": [
    "Print()   #Python does not recognise the function Print() since it is case sensitive and recognises print()"
   ]
  },
  {
   "cell_type": "markdown",
   "id": "48725859",
   "metadata": {},
   "source": [
    "## 2 Best Practices for Scientific Computing"
   ]
  },
  {
   "cell_type": "markdown",
   "id": "e9ec61e8",
   "metadata": {},
   "source": [
    "### 2.1 Some tips"
   ]
  },
  {
   "cell_type": "markdown",
   "id": "cc31fa6b",
   "metadata": {},
   "source": [
    "\n",
    "Write the codes for people to understand and replicate instead of complicating it too much\n",
    "\n",
    "Write the codes for its function first before trying to optimise it.\n",
    "\n",
    "Write the comments in # for its purpose not for understanding the mechanics of the code exactly.\n"
   ]
  },
  {
   "cell_type": "markdown",
   "id": "36ce8313",
   "metadata": {},
   "source": [
    "### 2.2 Getting help."
   ]
  },
  {
   "cell_type": "code",
   "execution_count": 17,
   "id": "13b4af40",
   "metadata": {},
   "outputs": [
    {
     "name": "stdout",
     "output_type": "stream",
     "text": [
      "Help on built-in function print in module builtins:\n",
      "\n",
      "print(...)\n",
      "    print(value, ..., sep=' ', end='\\n', file=sys.stdout, flush=False)\n",
      "    \n",
      "    Prints the values to a stream, or to sys.stdout by default.\n",
      "    Optional keyword arguments:\n",
      "    file:  a file-like object (stream); defaults to the current sys.stdout.\n",
      "    sep:   string inserted between values, default a space.\n",
      "    end:   string appended after the last value, default a newline.\n",
      "    flush: whether to forcibly flush the stream.\n",
      "\n"
     ]
    }
   ],
   "source": [
    "help(print)"
   ]
  },
  {
   "cell_type": "markdown",
   "id": "83eb3156",
   "metadata": {},
   "source": [
    "## Exercise 1 :  Bias for some heroes"
   ]
  },
  {
   "cell_type": "code",
   "execution_count": 29,
   "id": "9d0e1e6b",
   "metadata": {},
   "outputs": [
    {
     "name": "stdout",
     "output_type": "stream",
     "text": [
      "Hello batman\n"
     ]
    }
   ],
   "source": [
    "def hello(name):\n",
    "    if name == 'Batman' or name == 'Black Widow':\n",
    "        print('Hello ' + name.upper())  #sets the uppercase names for either or\n",
    "    else:\n",
    "        print('Hello ' + name.lower())  #sets the lowercase names for the rest\n",
    "hello('batMan')"
   ]
  },
  {
   "cell_type": "markdown",
   "id": "40156740",
   "metadata": {},
   "source": [
    "## Exercise 2 :  Bias for some heroes, continues"
   ]
  },
  {
   "cell_type": "code",
   "execution_count": 31,
   "id": "e1afd87b",
   "metadata": {},
   "outputs": [
    {
     "name": "stdout",
     "output_type": "stream",
     "text": [
      "Hello BATMAN\n"
     ]
    }
   ],
   "source": [
    "def hello(name):\n",
    "    name = name.lower()                 #forces all the name referenced to be lowercase, such that regardless of the input \n",
    "    if name == 'batman' or name == 'black widow':\n",
    "        print('Hello ' + name.upper())  #sets the uppercase names for either or\n",
    "    else:\n",
    "        print('Hello ' + name.lower())  #sets the lowercase names for the rest"
   ]
  },
  {
   "cell_type": "markdown",
   "id": "44611d1d",
   "metadata": {},
   "source": [
    "## Exercise 3 :  Look for help to replace"
   ]
  },
  {
   "cell_type": "code",
   "execution_count": 9,
   "id": "1f4c702a",
   "metadata": {},
   "outputs": [
    {
     "name": "stdout",
     "output_type": "stream",
     "text": [
      "The Batman lives in Gotham City\n",
      "The Joker lives in Gotham City\n"
     ]
    }
   ],
   "source": [
    "txt = 'The Joker lives in Gotham City'\n",
    "\n",
    "x = txt.replace(\"Joker\", \"Batman\")\n",
    "\n",
    "print(x)\n",
    "\n",
    "txt = 'The Joker lives in Gotham City'\n",
    "\n",
    "y = txt.replace(\"joker\", \"batman\")    #python does not replace joker with batman because it does not recognise the string 'joker' since the uncapitalised version is not within the original string.\n",
    "\n",
    "print(y)\n"
   ]
  }
 ],
 "metadata": {
  "kernelspec": {
   "display_name": "Python 3 (ipykernel)",
   "language": "python",
   "name": "python3"
  },
  "language_info": {
   "codemirror_mode": {
    "name": "ipython",
    "version": 3
   },
   "file_extension": ".py",
   "mimetype": "text/x-python",
   "name": "python",
   "nbconvert_exporter": "python",
   "pygments_lexer": "ipython3",
   "version": "3.10.8"
  },
  "toc": {
   "base_numbering": 1,
   "nav_menu": {},
   "number_sections": true,
   "sideBar": true,
   "skip_h1_title": false,
   "title_cell": "Table of Contents",
   "title_sidebar": "Contents",
   "toc_cell": false,
   "toc_position": {},
   "toc_section_display": true,
   "toc_window_display": false
  },
  "varInspector": {
   "cols": {
    "lenName": 16,
    "lenType": 16,
    "lenVar": 40
   },
   "kernels_config": {
    "python": {
     "delete_cmd_postfix": "",
     "delete_cmd_prefix": "del ",
     "library": "var_list.py",
     "varRefreshCmd": "print(var_dic_list())"
    },
    "r": {
     "delete_cmd_postfix": ") ",
     "delete_cmd_prefix": "rm(",
     "library": "var_list.r",
     "varRefreshCmd": "cat(var_dic_list()) "
    }
   },
   "types_to_exclude": [
    "module",
    "function",
    "builtin_function_or_method",
    "instance",
    "_Feature"
   ],
   "window_display": false
  },
  "vscode": {
   "interpreter": {
    "hash": "31f2aee4e71d21fbe5cf8b01ff0e069b9275f58929596ceb00d14d90e3e16cd6"
   }
  }
 },
 "nbformat": 4,
 "nbformat_minor": 5
}
