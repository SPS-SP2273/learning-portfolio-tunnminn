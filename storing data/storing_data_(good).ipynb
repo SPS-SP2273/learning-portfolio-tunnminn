{
 "cells": [
  {
   "cell_type": "markdown",
   "id": "123456",
   "metadata": {},
   "source": [
    "<div style=\"text-align:left;font-size:2em\"><span style=\"font-weight:bolder;font-size:1.25em\">SP2273 | Learning Portfolio</span><br><br><span style=\"font-weight:bold;color:darkred\">Storing Data (Good)</span></div>"
   ]
  },
  {
   "cell_type": "markdown",
   "id": "feaf342e",
   "metadata": {},
   "source": [
    "## 1 Subsetting: Indexing and Slicing"
   ]
  },
  {
   "cell_type": "markdown",
   "id": "14ead6e2",
   "metadata": {},
   "source": [
    "### 1.1 Indexing & Slicing 1D (Lists & Arrays)"
   ]
  },
  {
   "cell_type": "code",
   "execution_count": 6,
   "id": "cf127a53",
   "metadata": {},
   "outputs": [
    {
     "data": {
      "text/plain": [
       "array(['f6', 'g7', 'h8', 'i9', 'j10'], dtype='<U3')"
      ]
     },
     "execution_count": 6,
     "metadata": {},
     "output_type": "execute_result"
    }
   ],
   "source": [
    "py_list=[\"a1\", \"b2\", \"c3\", \"d4\", \"e5\",\n",
    "         \"f6\", \"g7\", \"h8\", \"i9\", \"j10\"]\n",
    "np_array=np.array(py_list)\n",
    "\n",
    "x = np_array\n",
    "x[0:4]\n",
    "x[0:8:2]\n",
    "x[5:]"
   ]
  },
  {
   "cell_type": "markdown",
   "id": "95cb8a66",
   "metadata": {},
   "source": [
    "### 1.2 Subsetting by masking (Arrays only)"
   ]
  },
  {
   "cell_type": "code",
   "execution_count": 36,
   "id": "3ebc35b1",
   "metadata": {},
   "outputs": [
    {
     "name": "stdout",
     "output_type": "stream",
     "text": [
      "[False False False  True  True  True  True  True  True  True]\n",
      "[1 2 3]\n",
      "[4 5 6 7]\n",
      "[ 1  2  9 10]\n",
      "[False False False False False  True  True  True  True  True]\n"
     ]
    }
   ],
   "source": [
    "np_array = np.array([1, 2, 3, 4, 5, 6, 7, 8, 9, 10])\n",
    "my_mask = np_array >3\n",
    "print(my_mask)\n",
    "np_array[my_mask]\n",
    "print(np_array[~(np_array > 3)])                         # '~' means 'NOT'\n",
    "print(np_array[(np_array > 3) & (np_array < 8)])         # '&' means 'AND'\n",
    "print(np_array[(np_array < 3) | (np_array > 8)])         # '|' means 'OR'\n",
    "\n",
    "print(np_array>5)"
   ]
  },
  {
   "cell_type": "markdown",
   "id": "40ae4544",
   "metadata": {},
   "source": [
    "### 1.3 Indexing & Slicing 2D Lists"
   ]
  },
  {
   "cell_type": "code",
   "execution_count": 11,
   "id": "1bf85746",
   "metadata": {},
   "outputs": [
    {
     "data": {
      "text/plain": [
       "[4, 'D']"
      ]
     },
     "execution_count": 11,
     "metadata": {},
     "output_type": "execute_result"
    }
   ],
   "source": [
    "py_list_2d = [[1, \"A\"], [2, \"B\"], [3, \"C\"], [4, \"D\"],\n",
    "              [5, \"E\"], [6, \"F\"], [7, \"G\"], [8, \"H\"],\n",
    "              [9, \"I\"], [10, \"J\"]]\n",
    "\n",
    "py_list_2d[3]"
   ]
  },
  {
   "cell_type": "code",
   "execution_count": 16,
   "id": "344f87d0",
   "metadata": {},
   "outputs": [
    {
     "data": {
      "text/plain": [
       "4"
      ]
     },
     "execution_count": 16,
     "metadata": {},
     "output_type": "execute_result"
    }
   ],
   "source": [
    "py_list_2d[3][0]"
   ]
  },
  {
   "cell_type": "code",
   "execution_count": 15,
   "id": "99424fc1",
   "metadata": {},
   "outputs": [
    {
     "data": {
      "text/plain": [
       "[[1, 'A'], [2, 'B'], [3, 'C']]"
      ]
     },
     "execution_count": 15,
     "metadata": {},
     "output_type": "execute_result"
    }
   ],
   "source": [
    "py_list_2d[:3]"
   ]
  },
  {
   "cell_type": "markdown",
   "id": "b20f0c20",
   "metadata": {},
   "source": [
    "### 1.4 Indexing & Slicing 2D Arrays"
   ]
  },
  {
   "cell_type": "code",
   "execution_count": null,
   "id": "1d06ecad",
   "metadata": {},
   "outputs": [],
   "source": [
    "np_array_2d = np.array([[1, \"A\"], [2, \"B\"], [3, \"C\"], [4, \"D\"],\n",
    "                        [5, \"E\"], [6, \"F\"], [7, \"G\"], [8, \"H\"],\n",
    "                        [9, \"I\"], [10, \"J\"]])\n"
   ]
  },
  {
   "cell_type": "markdown",
   "id": "d5a83166",
   "metadata": {},
   "source": [
    "### 1.5 Growing lists"
   ]
  },
  {
   "cell_type": "code",
   "execution_count": 18,
   "id": "8a3ed90c",
   "metadata": {},
   "outputs": [
    {
     "ename": "TypeError",
     "evalue": "list.append() takes exactly one argument (3 given)",
     "output_type": "error",
     "traceback": [
      "\u001b[0;31m---------------------------------------------------------------------------\u001b[0m",
      "\u001b[0;31mTypeError\u001b[0m                                 Traceback (most recent call last)",
      "Cell \u001b[0;32mIn[18], line 26\u001b[0m\n\u001b[1;32m     24\u001b[0m \u001b[38;5;66;03m#.apppend() funciton being used to append the element directly instead of rewriting too many lines of cofe\u001b[39;00m\n\u001b[1;32m     25\u001b[0m x \u001b[38;5;241m=\u001b[39m []\n\u001b[0;32m---> 26\u001b[0m \u001b[43mx\u001b[49m\u001b[38;5;241;43m.\u001b[39;49m\u001b[43mappend\u001b[49m\u001b[43m(\u001b[49m\u001b[38;5;241;43m1\u001b[39;49m\u001b[43m,\u001b[49m\u001b[43m \u001b[49m\u001b[38;5;241;43m2\u001b[39;49m\u001b[43m,\u001b[49m\u001b[43m \u001b[49m\u001b[38;5;241;43m3\u001b[39;49m\u001b[43m)\u001b[49m\n\u001b[1;32m     27\u001b[0m x\n",
      "\u001b[0;31mTypeError\u001b[0m: list.append() takes exactly one argument (3 given)"
     ]
    }
   ],
   "source": [
    "x = 1*[10]\n",
    "x\n",
    "\n",
    "x2= [1]\n",
    "x2 = x2 + [2]\n",
    "x2= x2 + [3]\n",
    "x2\n",
    "\n",
    "x3=[1]\n",
    "x3+=[2]\n",
    "x3+=[4]\n",
    "\n",
    "x3\n",
    "\n",
    "#appending multiple elements into the same list at one shot\n",
    "x = [1]\n",
    "x+=[2, 3, 4, 5]  #appends it to the back of the list\n",
    "x\n",
    "\n",
    "x = [1]\n",
    "x= [2, 3, 4, 4, 5] + x #pre-pends the elements to the back of the front of the list\n",
    "x\n",
    "\n",
    "#.apppend() funciton being used to append the element directly instead of rewriting too many lines of cofe\n",
    "x = []\n",
    "x.append(1, 2, 3) #does not work as .append takes only 1 argument\n",
    "x"
   ]
  },
  {
   "cell_type": "markdown",
   "id": "b44ab5ec",
   "metadata": {},
   "source": [
    "## 2 Some loose ends"
   ]
  },
  {
   "cell_type": "markdown",
   "id": "61ab6204",
   "metadata": {},
   "source": [
    "### 2.1 Tuples"
   ]
  },
  {
   "cell_type": "code",
   "execution_count": 28,
   "id": "d53e9d4e",
   "metadata": {},
   "outputs": [
    {
     "name": "stdout",
     "output_type": "stream",
     "text": [
      "(1, 2)\n",
      "(2, 3)\n",
      "(1, 2, 3)\n"
     ]
    },
    {
     "ename": "TypeError",
     "evalue": "'tuple' object does not support item assignment",
     "output_type": "error",
     "traceback": [
      "\u001b[0;31m---------------------------------------------------------------------------\u001b[0m",
      "\u001b[0;31mTypeError\u001b[0m                                 Traceback (most recent call last)",
      "Cell \u001b[0;32mIn[28], line 11\u001b[0m\n\u001b[1;32m      8\u001b[0m \u001b[38;5;28mprint\u001b[39m(a[\u001b[38;5;241m0\u001b[39m:])\n\u001b[1;32m     10\u001b[0m \u001b[38;5;66;03m#trying to append a new element to the list will not work\u001b[39;00m\n\u001b[0;32m---> 11\u001b[0m \u001b[43ma\u001b[49m\u001b[43m[\u001b[49m\u001b[38;5;241;43m0\u001b[39;49m\u001b[43m]\u001b[49m \u001b[38;5;241m=\u001b[39m [\u001b[38;5;241m0\u001b[39m]\n",
      "\u001b[0;31mTypeError\u001b[0m: 'tuple' object does not support item assignment"
     ]
    }
   ],
   "source": [
    "#tuples are lists created using () instead of [] and cannot be changed after creation\n",
    "\n",
    "a=(1, 2, 3)\n",
    "\n",
    "# to access the data, use the print function, referencing the tuple and the desired element's index\n",
    "print(a[:2])\n",
    "print(a[1:])\n",
    "print(a[0:])\n",
    "\n",
    "#trying to append a new element to the list will not work\n",
    "a[0] = [0]"
   ]
  },
  {
   "cell_type": "markdown",
   "id": "daf6fc9c",
   "metadata": {},
   "source": [
    "### 2.2 Be VERY careful when copying"
   ]
  },
  {
   "cell_type": "code",
   "execution_count": null,
   "id": "4cd0eecb",
   "metadata": {},
   "outputs": [],
   "source": [
    "x = [1, 2, 3, 4]\n",
    "\n",
    "#DO NOT USE ANOTHER VARIABLE TO REFERNCE X TO COPY THE LIST FROM X AS IT WILL CHANGE X FOR A CHANGE IN THE NEW VARIABLE\n",
    "y=x\n",
    "z=x\n",
    "\n",
    "#use the .copy() function instead\n",
    "y=x.copy()\n",
    "z = x.copy()\n"
   ]
  },
  {
   "cell_type": "markdown",
   "id": "a6bf2ae8",
   "metadata": {},
   "source": [
    "## Exercise 1 :  Total recall?"
   ]
  },
  {
   "cell_type": "markdown",
   "id": "f8f21961",
   "metadata": {},
   "source": [
    "Subsetting : refers to getting only the specified element within a specified list\n",
    "\n",
    "Indexing: Refers to the numerical positioning of the element within a list , where the index of the first element is 0, followed by 1 and so on.\n",
    "\n",
    "Slicing: Literally means to slice out the segment of a list, such as taking reference to all elements after a specific index in [2:] or anything before the index of [:1]. However, the index 1 referenced in [:1] will not be shown. \n",
    "\n",
    "*Masking \n"
   ]
  },
  {
   "cell_type": "markdown",
   "id": "79ce1311",
   "metadata": {},
   "source": [
    "## Exercise 2 :  Show me the ‘odd’ letters"
   ]
  },
  {
   "cell_type": "code",
   "execution_count": 88,
   "id": "62966324",
   "metadata": {},
   "outputs": [
    {
     "name": "stdout",
     "output_type": "stream",
     "text": [
      "['1' '3' '2' '4' '5' '7' '6' '8' '10' '9']\n"
     ]
    }
   ],
   "source": [
    "import numpy as np\n",
    "\n",
    "np_array_2d = np.array([[1, \"A\"], [3, \"C\"], [2, \"B\"], [4, \"D\"],\n",
    "                        [5, \"E\"], [7, \"G\"], [6, \"F\"], [8, \"H\"],\n",
    "                        [10, \"J\"], [9, \"I\"]])\n",
    "\n",
    "array = np_array_2d[0:, 0]\n",
    "print(array)\n",
    "x = array.astype(int)     #makes the string into integers\n",
    "y = x%2\n",
    "z = (y != 0)\n",
    "z\n",
    "\n",
    "array2 = np_array_2d[0:, 1]\n",
    "array2\n",
    "\n",
    "result = []\n",
    "for ind in range(len(z)):\n",
    "    if (z[ind]):\n",
    "        result.append(array2[ind])"
   ]
  },
  {
   "cell_type": "code",
   "execution_count": 89,
   "id": "9cfa7739",
   "metadata": {},
   "outputs": [
    {
     "data": {
      "text/plain": [
       "['A', 'C', 'E', 'G', 'I']"
      ]
     },
     "execution_count": 89,
     "metadata": {},
     "output_type": "execute_result"
    }
   ],
   "source": [
    "result"
   ]
  },
  {
   "cell_type": "code",
   "execution_count": null,
   "id": "e11ff583",
   "metadata": {},
   "outputs": [],
   "source": []
  }
 ],
 "metadata": {
  "kernelspec": {
   "display_name": "Python 3 (ipykernel)",
   "language": "python",
   "name": "python3"
  },
  "language_info": {
   "codemirror_mode": {
    "name": "ipython",
    "version": 3
   },
   "file_extension": ".py",
   "mimetype": "text/x-python",
   "name": "python",
   "nbconvert_exporter": "python",
   "pygments_lexer": "ipython3",
   "version": "3.10.8"
  },
  "toc": {
   "base_numbering": 1,
   "nav_menu": {},
   "number_sections": true,
   "sideBar": true,
   "skip_h1_title": false,
   "title_cell": "Table of Contents",
   "title_sidebar": "Contents",
   "toc_cell": false,
   "toc_position": {},
   "toc_section_display": true,
   "toc_window_display": false
  },
  "varInspector": {
   "cols": {
    "lenName": 16,
    "lenType": 16,
    "lenVar": 40
   },
   "kernels_config": {
    "python": {
     "delete_cmd_postfix": "",
     "delete_cmd_prefix": "del ",
     "library": "var_list.py",
     "varRefreshCmd": "print(var_dic_list())"
    },
    "r": {
     "delete_cmd_postfix": ") ",
     "delete_cmd_prefix": "rm(",
     "library": "var_list.r",
     "varRefreshCmd": "cat(var_dic_list()) "
    }
   },
   "types_to_exclude": [
    "module",
    "function",
    "builtin_function_or_method",
    "instance",
    "_Feature"
   ],
   "window_display": false
  },
  "vscode": {
   "interpreter": {
    "hash": "31f2aee4e71d21fbe5cf8b01ff0e069b9275f58929596ceb00d14d90e3e16cd6"
   }
  }
 },
 "nbformat": 4,
 "nbformat_minor": 5
}
