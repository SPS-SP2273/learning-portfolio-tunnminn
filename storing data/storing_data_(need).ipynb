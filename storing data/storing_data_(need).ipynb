{
 "cells": [
  {
   "cell_type": "markdown",
   "id": "123456",
   "metadata": {},
   "source": [
    "<div style=\"text-align:left;font-size:2em\"><span style=\"font-weight:bolder;font-size:1.25em\">SP2273 | Learning Portfolio</span><br><br><span style=\"font-weight:bold;color:darkred\">Storing Data (Need)</span></div>"
   ]
  },
  {
   "cell_type": "markdown",
   "id": "ee092b87",
   "metadata": {},
   "source": [
    "## 1 Lists, Arrays & Dictionaries"
   ]
  },
  {
   "cell_type": "markdown",
   "id": "f4a46606",
   "metadata": {},
   "source": [
    "### 1.1 Let’s compare"
   ]
  },
  {
   "cell_type": "code",
   "execution_count": 9,
   "id": "13b041b2",
   "metadata": {},
   "outputs": [
    {
     "name": "stdout",
     "output_type": "stream",
     "text": [
      "['Natasha Romanoff' 'Tony Stark' 'Stephen Strange']\n"
     ]
    }
   ],
   "source": [
    "import numpy as np\n",
    "py_super_names= ['Black Widow', 'Iron Man', 'Doctor Strange']\n",
    "py_real_names= [ 'Natasha Romanoff', 'Tony Stark', 'Stephen Strange']\n",
    "\n",
    "np_super_names = np.array(['Black Widow', 'Iron Man', 'Doctor Strange'])\n",
    "np_real_names = np.array([ 'Natasha Romanoff', 'Tony Stark', 'Stephen Strange'])\n",
    "\n",
    "superhero_info = {'Natasha Romanoff': 'Black Widow',\n",
    "                 'Tony Stark': 'Iron Man',\n",
    "                 'Stephen Strange': 'Doctor Strange'\n",
    "                 }\n"
   ]
  },
  {
   "cell_type": "markdown",
   "id": "c0ff0eb0",
   "metadata": {},
   "source": [
    "### 1.2 Accessing data from a list (or array)"
   ]
  },
  {
   "cell_type": "code",
   "execution_count": 12,
   "id": "dbf613c2",
   "metadata": {},
   "outputs": [
    {
     "name": "stdout",
     "output_type": "stream",
     "text": [
      "Black Widow\n",
      "Doctor Strange\n"
     ]
    }
   ],
   "source": [
    "#accessing data from a list or array requires the code to know the index of that specific data within the array/list\n",
    "\n",
    "print(py_super_names[0])\n",
    "print(np_super_names[-1])"
   ]
  },
  {
   "cell_type": "markdown",
   "id": "d678e1e5",
   "metadata": {},
   "source": [
    "### 1.3 Accessing data from a dictionary"
   ]
  },
  {
   "cell_type": "code",
   "execution_count": 17,
   "id": "71ff2ff7",
   "metadata": {},
   "outputs": [
    {
     "name": "stdout",
     "output_type": "stream",
     "text": [
      "Black Widow\n"
     ]
    },
    {
     "data": {
      "text/plain": [
       "dict_values(['Black Widow', 'Iron Man', 'Doctor Strange'])"
      ]
     },
     "execution_count": 17,
     "metadata": {},
     "output_type": "execute_result"
    }
   ],
   "source": [
    "#to call information from a dictionary, know the associated key for each value\n",
    "print(superhero_info['Natasha Romanoff'])\n",
    "\n",
    "#Keys can be accessed through the use of .keys()\n",
    "superhero_info.keys()\n",
    "\n",
    "#similarly, values can also be attained through .values()\n",
    "superhero_info.values()"
   ]
  },
  {
   "cell_type": "markdown",
   "id": "833f6079",
   "metadata": {},
   "source": [
    "### 1.4 Higher dimensional lists"
   ]
  },
  {
   "cell_type": "code",
   "execution_count": 18,
   "id": "7b37dcf3",
   "metadata": {},
   "outputs": [],
   "source": [
    "py_superhero_info = [['Natasha Romanoff', 'Black Widow'],\n",
    "                     ['Tony Stark', 'Iron Man'],\n",
    "                     ['Stephen Strange', 'Doctor Strange']]"
   ]
  },
  {
   "cell_type": "markdown",
   "id": "e7f12660",
   "metadata": {},
   "source": [
    "## 2 Lists vs. Arrays"
   ]
  },
  {
   "cell_type": "markdown",
   "id": "ebb7391e",
   "metadata": {},
   "source": [
    "### 2.1 Size"
   ]
  },
  {
   "cell_type": "code",
   "execution_count": 24,
   "id": "81b9a9a0",
   "metadata": {},
   "outputs": [
    {
     "data": {
      "text/plain": [
       "20"
      ]
     },
     "execution_count": 24,
     "metadata": {},
     "output_type": "execute_result"
    }
   ],
   "source": [
    "py_list_2d = [[1, \"A\"], [2, \"B\"], [3, \"C\"], [4, \"D\"],\n",
    "              [5, \"E\"], [6, \"F\"], [7, \"G\"], [8, \"H\"],\n",
    "              [9, \"I\"], [10, \"J\"]]\n",
    "\n",
    "np_array_2d = np.array(py_list_2d)      # Reusing the Python list \n",
    "                                        # to create a NEW\n",
    "                                        # NumPy array\n",
    "        \n",
    "len(py_list_2d)\n",
    "len(np_array_2d)\n",
    "\n",
    "np_array_2d.shape\n",
    "np_array_2d.size"
   ]
  },
  {
   "cell_type": "markdown",
   "id": "6bc5f5c0",
   "metadata": {},
   "source": [
    "### 2.2 Arrays are fussy about type"
   ]
  },
  {
   "cell_type": "code",
   "execution_count": 25,
   "id": "453e753f",
   "metadata": {},
   "outputs": [
    {
     "data": {
      "text/plain": [
       "array(['1', '1.5', 'A'], dtype='<U32')"
      ]
     },
     "execution_count": 25,
     "metadata": {},
     "output_type": "execute_result"
    }
   ],
   "source": [
    "#only tolerate a single type of data, be it string, integers, floats, all the data becomes standardised.\n",
    "\n",
    "py_list=[1, 1.5, 'A']\n",
    "np.array(py_list)"
   ]
  },
  {
   "cell_type": "markdown",
   "id": "4b3b258e",
   "metadata": {},
   "source": [
    "### 2.3 Adding a number"
   ]
  },
  {
   "cell_type": "code",
   "execution_count": 28,
   "id": "c8b7f8ff",
   "metadata": {},
   "outputs": [
    {
     "data": {
      "text/plain": [
       "array([11, 12, 13, 14, 15])"
      ]
     },
     "execution_count": 28,
     "metadata": {},
     "output_type": "execute_result"
    }
   ],
   "source": [
    "py_list = [1, 2, 3, 4, 5]\n",
    "np_array = np.array(py_list)\n",
    "\n",
    "np_array + 10        #adds 10 to every value within the list"
   ]
  },
  {
   "cell_type": "markdown",
   "id": "bb678b02",
   "metadata": {},
   "source": [
    "### 2.4 Adding another list"
   ]
  },
  {
   "cell_type": "code",
   "execution_count": 31,
   "id": "6200d217",
   "metadata": {},
   "outputs": [
    {
     "name": "stdout",
     "output_type": "stream",
     "text": [
      "[1, 2, 3, 4, 5, 10, 12, 14, 16, 18]\n",
      "[11 14 17 20 23]\n"
     ]
    }
   ],
   "source": [
    "py_list_1 = [1, 2, 3, 4, 5]\n",
    "py_list_2 = [10, 12, 14, 16, 18]\n",
    "\n",
    "np_array_1 = np.array(py_list_1)\n",
    "np_array_2 = np.array(py_list_2)\n",
    "\n",
    "print(py_list_1 + py_list_2)    #puts all the values within 2 lists together\n",
    "print(np_array_1 + np_array_2)  #Addition of the each corresponding index value\n"
   ]
  },
  {
   "cell_type": "markdown",
   "id": "ad152b0c",
   "metadata": {},
   "source": [
    "### 2.5 Multiplying by a Number"
   ]
  },
  {
   "cell_type": "code",
   "execution_count": 34,
   "id": "0f5fec9b",
   "metadata": {},
   "outputs": [
    {
     "data": {
      "text/plain": [
       "array([ 2,  4,  6,  8, 10])"
      ]
     },
     "execution_count": 34,
     "metadata": {},
     "output_type": "execute_result"
    }
   ],
   "source": [
    "py_list = [1, 2, 3, 4, 5]\n",
    "np_array = np.array(py_list)\n",
    "\n",
    "py_list * 2              #makes 2 sets of the list into 1 list\n",
    "np_array * 2             #multiplies each value within the list by 2"
   ]
  },
  {
   "cell_type": "markdown",
   "id": "ca7c23da",
   "metadata": {},
   "source": [
    "### 2.6 Squaring"
   ]
  },
  {
   "cell_type": "code",
   "execution_count": 43,
   "id": "1a4f30dc",
   "metadata": {},
   "outputs": [
    {
     "data": {
      "text/plain": [
       "array([ 1,  4,  9, 16, 25])"
      ]
     },
     "execution_count": 43,
     "metadata": {},
     "output_type": "execute_result"
    }
   ],
   "source": [
    "py_list = [1, 2, 3, 4, 5]\n",
    "np_array = np.array(py_list)\n",
    "\n",
    "#py_list**2 doesnt work because the list, but you could use a for loop\n",
    "[i**2 for i in py_list]\n",
    "np.square(np_array)"
   ]
  },
  {
   "cell_type": "markdown",
   "id": "2b9647dd",
   "metadata": {},
   "source": [
    "### 2.7 Asking questions"
   ]
  },
  {
   "cell_type": "code",
   "execution_count": 48,
   "id": "67f4b0be",
   "metadata": {},
   "outputs": [
    {
     "data": {
      "text/plain": [
       "False"
      ]
     },
     "execution_count": 48,
     "metadata": {},
     "output_type": "execute_result"
    }
   ],
   "source": [
    "py_list = [1, 2, 3, 4, 5]\n",
    "\n",
    "py_list == 1   #asks the question if the variable attached to py_list is equal to 1\n"
   ]
  },
  {
   "cell_type": "code",
   "execution_count": 61,
   "id": "4585f405",
   "metadata": {},
   "outputs": [
    {
     "data": {
      "text/plain": [
       "array([False, False,  True,  True,  True])"
      ]
     },
     "execution_count": 61,
     "metadata": {},
     "output_type": "execute_result"
    }
   ],
   "source": [
    "np_array = np.array(py_list)\n",
    "np_array >= 3"
   ]
  },
  {
   "cell_type": "markdown",
   "id": "661f22bf",
   "metadata": {},
   "source": [
    "### 2.8 Mathematics"
   ]
  },
  {
   "cell_type": "code",
   "execution_count": 72,
   "id": "956fd50e",
   "metadata": {},
   "outputs": [
    {
     "data": {
      "text/plain": [
       "1"
      ]
     },
     "execution_count": 72,
     "metadata": {},
     "output_type": "execute_result"
    }
   ],
   "source": [
    "py_list = [1, 2, 3, 4, 5]\n",
    "np_array = np.array(py_list)\n",
    "\n",
    "sum(py_list)    #sums all values within the list\n",
    "max(py_list)    # finds the greatest value within the list\n",
    "min(py_list)    # finds the lowest value within the list\n",
    "\n",
    "np_array.sum()\n",
    "np_array.mean()\n",
    "np_array.min()"
   ]
  },
  {
   "cell_type": "markdown",
   "id": "3a7cf2e0",
   "metadata": {},
   "source": [
    "## Exercise 1 :  Total recall?"
   ]
  },
  {
   "cell_type": "markdown",
   "id": "430a73d5",
   "metadata": {},
   "source": [
    "A list and array comprises of similar styles of data, where the order or index of each value matters in relation to one another\n",
    "Mathematical functions can be employed on lists and arrays. \n",
    "\n",
    "A list can be treated as a set of values within a specific variable and is commonly treated as a whole. In comparison, the array can be viewed as a matrix of values where each individual value would be taken into consideration when executing an operation.\n",
    "\n",
    "When multiplying a list, the function *2 would result in the overall list being multiplied such as [1, 1, 1] becoming [1, 1, 1, 1, 1, 1]. However, in an array, it would take the individual elements and multiply by 2 to return an array of the same size, such as [2, 2, 2] for an initial array of [1, 1, 1]\n",
    "\n",
    "A dictionary is a form of information storage that contains 2 different sets of information, the first being a key and the second being the corresponding value to the key. \n",
    "\n"
   ]
  },
  {
   "cell_type": "markdown",
   "id": "b4edf042",
   "metadata": {},
   "source": [
    "## Exercise 2 :  Index me"
   ]
  },
  {
   "cell_type": "code",
   "execution_count": 6,
   "id": "eba396d1",
   "metadata": {},
   "outputs": [
    {
     "name": "stdout",
     "output_type": "stream",
     "text": [
      "a1\n",
      "c3\n",
      "e5\n",
      "g7\n",
      "i9\n"
     ]
    },
    {
     "data": {
      "text/plain": [
       "['a1', 'c3', 'e5', 'g7', 'i9', 'j10']"
      ]
     },
     "execution_count": 6,
     "metadata": {},
     "output_type": "execute_result"
    }
   ],
   "source": [
    "import re\n",
    "py_list = [\"a1\", \"b2\", \"c3\", \"d4\", \"e5\", \"f6\", \"g7\", \"h8\", \"i9\", \"j10\"]\n",
    "print(py_list[0])   # Prints 'a1'\n",
    "print(py_list[2])   # Prints 'c3'\n",
    "print(py_list[4])   # Prints 'e5'\n",
    "print(py_list[6])   # Prints 'g7'\n",
    "print(py_list[8])   # Prints 'i9'\n",
    "\n",
    "def py_list2(n):\n",
    "    result = []\n",
    "    for i in n:\n",
    "        if (int(i[1]))%2 != 0:\n",
    "            result.append(i)\n",
    "    return result\n",
    "py_list2(py_list)"
   ]
  },
  {
   "cell_type": "markdown",
   "id": "280cccdf",
   "metadata": {},
   "source": [
    "## Exercise 3 :  Capitalise Heros"
   ]
  },
  {
   "cell_type": "code",
   "execution_count": 94,
   "id": "456c7fba",
   "metadata": {},
   "outputs": [
    {
     "data": {
      "text/plain": [
       "'BLACK WIDOW'"
      ]
     },
     "execution_count": 94,
     "metadata": {},
     "output_type": "execute_result"
    }
   ],
   "source": [
    "superhero_info = {\"Natasha Romanoff\": \"Black Widow\",\n",
    "                  \"Tony Stark\": \"Iron Man\",\n",
    "                  \"Stephen Strange\": \"Doctor Strange\"\n",
    "                  }\n",
    "                 \n",
    "for x in superhero_info:\n",
    "    superhero_info[x] = superhero_info[x].upper()\n",
    "superhero_info['Natasha Romanoff']\n",
    "\n"
   ]
  },
  {
   "cell_type": "markdown",
   "id": "6da65300",
   "metadata": {},
   "source": [
    "## Exercise 4 :  How many ones"
   ]
  },
  {
   "cell_type": "code",
   "execution_count": 128,
   "id": "7004fb39",
   "metadata": {},
   "outputs": [
    {
     "data": {
      "text/plain": [
       "9"
      ]
     },
     "execution_count": 128,
     "metadata": {},
     "output_type": "execute_result"
    }
   ],
   "source": [
    "import numpy as np\n",
    "numbers=[45, 60, 1, 30, 96, 1, 96, 57, 16, 1,\n",
    "        99, 62, 86, 43, 42, 60, 59, 1, 1, 35,\n",
    "        83, 47, 34, 28, 68, 23, 22, 92, 1, 79,\n",
    "        1, 29, 94, 72, 46, 47, 1, 74, 32, 20,\n",
    "        8, 37, 35, 1, 89, 29, 86, 19, 43, 61]\n",
    "n = np.array(numbers)\n",
    "sum(n == 1)"
   ]
  },
  {
   "cell_type": "code",
   "execution_count": null,
   "id": "c2dd55ca",
   "metadata": {},
   "outputs": [],
   "source": []
  }
 ],
 "metadata": {
  "kernelspec": {
   "display_name": "Python 3 (ipykernel)",
   "language": "python",
   "name": "python3"
  },
  "language_info": {
   "codemirror_mode": {
    "name": "ipython",
    "version": 3
   },
   "file_extension": ".py",
   "mimetype": "text/x-python",
   "name": "python",
   "nbconvert_exporter": "python",
   "pygments_lexer": "ipython3",
   "version": "3.10.8"
  },
  "toc": {
   "base_numbering": 1,
   "nav_menu": {},
   "number_sections": true,
   "sideBar": true,
   "skip_h1_title": false,
   "title_cell": "Table of Contents",
   "title_sidebar": "Contents",
   "toc_cell": false,
   "toc_position": {},
   "toc_section_display": true,
   "toc_window_display": false
  },
  "varInspector": {
   "cols": {
    "lenName": 16,
    "lenType": 16,
    "lenVar": 40
   },
   "kernels_config": {
    "python": {
     "delete_cmd_postfix": "",
     "delete_cmd_prefix": "del ",
     "library": "var_list.py",
     "varRefreshCmd": "print(var_dic_list())"
    },
    "r": {
     "delete_cmd_postfix": ") ",
     "delete_cmd_prefix": "rm(",
     "library": "var_list.r",
     "varRefreshCmd": "cat(var_dic_list()) "
    }
   },
   "types_to_exclude": [
    "module",
    "function",
    "builtin_function_or_method",
    "instance",
    "_Feature"
   ],
   "window_display": false
  },
  "vscode": {
   "interpreter": {
    "hash": "31f2aee4e71d21fbe5cf8b01ff0e069b9275f58929596ceb00d14d90e3e16cd6"
   }
  }
 },
 "nbformat": 4,
 "nbformat_minor": 5
}
