{
 "cells": [
  {
   "cell_type": "markdown",
   "id": "123456",
   "metadata": {},
   "source": [
    "<div style=\"text-align:left;font-size:2em\"><span style=\"font-weight:bolder;font-size:1.25em\">SP2273 | Learning Portfolio</span><br><br><span style=\"font-weight:bold;color:darkred\">Functions (Good)</span></div>"
   ]
  },
  {
   "cell_type": "markdown",
   "id": "f2a4a026",
   "metadata": {},
   "source": [
    "## 1 Check, balances and contingencies"
   ]
  },
  {
   "cell_type": "markdown",
   "id": "18cfb63b",
   "metadata": {},
   "source": [
    "### 1.1 assert"
   ]
  },
  {
   "cell_type": "code",
   "execution_count": 9,
   "id": "4de911fb",
   "metadata": {},
   "outputs": [
    {
     "ename": "AssertionError",
     "evalue": "DUMMY",
     "output_type": "error",
     "traceback": [
      "\u001b[0;31m---------------------------------------------------------------------------\u001b[0m",
      "\u001b[0;31mAssertionError\u001b[0m                            Traceback (most recent call last)",
      "Cell \u001b[0;32mIn[9], line 3\u001b[0m\n\u001b[1;32m      1\u001b[0m \u001b[38;5;66;03m#assert condition-to-check, output\u001b[39;00m\n\u001b[1;32m      2\u001b[0m x\u001b[38;5;241m=\u001b[39m \u001b[38;5;241m5\u001b[39m\u001b[38;5;241m-\u001b[39m\u001b[38;5;241m6\u001b[39m\n\u001b[0;32m----> 3\u001b[0m \u001b[38;5;28;01massert\u001b[39;00m x\u001b[38;5;241m>\u001b[39m\u001b[38;5;241m=\u001b[39m\u001b[38;5;241m0\u001b[39m, \u001b[38;5;124m'\u001b[39m\u001b[38;5;124mDUMMY\u001b[39m\u001b[38;5;124m'\u001b[39m\n",
      "\u001b[0;31mAssertionError\u001b[0m: DUMMY"
     ]
    }
   ],
   "source": [
    "#assert condition-to-check, output\n",
    "x= 5-6\n",
    "assert x>=0, 'DUMMY'\n"
   ]
  },
  {
   "cell_type": "markdown",
   "id": "40cb55c5",
   "metadata": {},
   "source": [
    "### 1.2 try-except"
   ]
  },
  {
   "cell_type": "code",
   "execution_count": 2,
   "id": "ab54a41a",
   "metadata": {},
   "outputs": [
    {
     "name": "stdout",
     "output_type": "stream",
     "text": [
      "Give me a number and I will calculate it's square2\n",
      "The square of 2 is 4\n"
     ]
    }
   ],
   "source": [
    "number=input(\"Give me a number and I will calculate it's square\")\n",
    "square=int(number)**2\n",
    "print(f'The square of {number} is {square}')"
   ]
  },
  {
   "cell_type": "code",
   "execution_count": 5,
   "id": "57bc24fc",
   "metadata": {},
   "outputs": [
    {
     "name": "stdout",
     "output_type": "stream",
     "text": [
      "Give me a number and I will calculate it's squarehaha\n",
      "Oh no! I can't print the square of haha\n"
     ]
    }
   ],
   "source": [
    "try:\n",
    "    number=input(\"Give me a number and I will calculate it's square\")\n",
    "    square=int(number)**2\n",
    "    print(f'The square of {number} is {square}')\n",
    "except:                                                    #if the input for number does not fulfil the criteria to become an integer\n",
    "    print(f\"Oh no! I can't print the square of {number}\")"
   ]
  },
  {
   "cell_type": "code",
   "execution_count": null,
   "id": "8c862a7d",
   "metadata": {},
   "outputs": [],
   "source": []
  },
  {
   "cell_type": "markdown",
   "id": "b67d9e35",
   "metadata": {},
   "source": [
    "## 2 Some loose ends"
   ]
  },
  {
   "cell_type": "markdown",
   "id": "bfbbc50c",
   "metadata": {},
   "source": [
    "### 2.1 Positional, keyword and default arguments"
   ]
  },
  {
   "cell_type": "code",
   "execution_count": 13,
   "id": "79c8811e",
   "metadata": {},
   "outputs": [
    {
     "data": {
      "text/plain": [
       "1000042"
      ]
     },
     "execution_count": 13,
     "metadata": {},
     "output_type": "execute_result"
    }
   ],
   "source": [
    "def funny_add(a, b, c=2):            #by making c=1, the original input for C will always be c=1 , unless an additional input is provided, which replaces c=1 by c=new value.\n",
    "    return a + 10*b+ 100**c\n",
    "funny_add(2, 4, 3)"
   ]
  },
  {
   "cell_type": "code",
   "execution_count": null,
   "id": "5a70a4dd",
   "metadata": {},
   "outputs": [],
   "source": []
  },
  {
   "cell_type": "markdown",
   "id": "ae68a7c9",
   "metadata": {},
   "source": [
    "### 2.2 Docstrings"
   ]
  },
  {
   "cell_type": "code",
   "execution_count": 1,
   "id": "5788f3dc",
   "metadata": {},
   "outputs": [
    {
     "name": "stdout",
     "output_type": "stream",
     "text": [
      "Help on function funny_add in module __main__:\n",
      "\n",
      "funny_add(a, b, c=1)\n",
      "    A test function to demonstrate how\n",
      "    positional, keyword and default arguments\n",
      "    work.\n",
      "\n"
     ]
    }
   ],
   "source": [
    "def funny_add(a, b, c=1):\n",
    "    '''\n",
    "    A test function to demonstrate how\n",
    "    positional, keyword and default arguments\n",
    "    work.\n",
    "    '''\n",
    "    return a+ 10*b + 100*c\n",
    "help(funny_add)\n"
   ]
  },
  {
   "cell_type": "markdown",
   "id": "e1ff1311",
   "metadata": {},
   "source": [
    "### 2.3 Function are first class citizens"
   ]
  },
  {
   "cell_type": "code",
   "execution_count": 20,
   "id": "95595782",
   "metadata": {},
   "outputs": [
    {
     "name": "stdout",
     "output_type": "stream",
     "text": [
      "1.0\n",
      "6.123233995736766e-17\n",
      "-1.0\n"
     ]
    }
   ],
   "source": [
    "def my_function(angle, trig_function):\n",
    "    return trig_function(angle)\n",
    "\n",
    "x=my_function(np.pi/2, np.sin)\n",
    "print(x)\n",
    "\n",
    "y=my_function(np.pi/2, np.cos)\n",
    "print(y)\n",
    "\n",
    "z=my_function(np.pi/2, lambda x:np.cos(2*x))\n",
    "print(z)"
   ]
  },
  {
   "cell_type": "markdown",
   "id": "ac2e0f75",
   "metadata": {},
   "source": [
    "### 2.4 More unpacking"
   ]
  },
  {
   "cell_type": "code",
   "execution_count": 3,
   "id": "0a58de55",
   "metadata": {},
   "outputs": [
    {
     "name": "stdout",
     "output_type": "stream",
     "text": [
      "1 2 3\n",
      "3 2 1\n",
      "1 5\n"
     ]
    }
   ],
   "source": [
    "x, y, z = [1, 2, 3]\n",
    "print(x, y, z)\n",
    "\n",
    "x, y, z = np.array([1, 2, 3])\n",
    "print(z, y, x)\n",
    "\n",
    "x, *_, z = np.array([1, 2, 3, 4, 5])\n",
    "print(x,z)\n",
    "\n"
   ]
  },
  {
   "cell_type": "markdown",
   "id": "24d32386",
   "metadata": {},
   "source": [
    "## Exercise 1 :  A better calculator I"
   ]
  },
  {
   "cell_type": "code",
   "execution_count": 76,
   "id": "21ad166c",
   "metadata": {},
   "outputs": [
    {
     "data": {
      "text/plain": [
       "array([0.5625    , 0.69565217, 4.88888889, 3.16666667, 0.36986301])"
      ]
     },
     "execution_count": 76,
     "metadata": {},
     "output_type": "execute_result"
    }
   ],
   "source": [
    "def add(x, y):\n",
    "    return x+y\n",
    "\n",
    "def subtract(x, y):\n",
    "    return x-y\n",
    "\n",
    "def multiply(x, y):\n",
    "    return x*y\n",
    "\n",
    "def divide(x, y):\n",
    "    return x/y\n",
    "    assert any(y== 0),'You cant divide by 0'\n",
    "\n",
    "x=np.array([36, 32, 44, 76, 27])\n",
    "y=np.array([64, 46, 9, 24, 73])\n",
    "\n",
    "subtract(x, y)\n",
    "divide(x, y)"
   ]
  },
  {
   "cell_type": "code",
   "execution_count": 137,
   "id": "f1dc8dab",
   "metadata": {},
   "outputs": [
    {
     "name": "stdout",
     "output_type": "stream",
     "text": [
      "True\n"
     ]
    },
    {
     "ename": "AssertionError",
     "evalue": "you can't divide by 0!",
     "output_type": "error",
     "traceback": [
      "\u001b[0;31m---------------------------------------------------------------------------\u001b[0m",
      "\u001b[0;31mAssertionError\u001b[0m                            Traceback (most recent call last)",
      "Cell \u001b[0;32mIn[137], line 10\u001b[0m\n\u001b[1;32m      7\u001b[0m     \u001b[38;5;28;01massert\u001b[39;00m z \u001b[38;5;241m!=\u001b[39m \u001b[38;5;28;01mTrue\u001b[39;00m, \u001b[38;5;124m\"\u001b[39m\u001b[38;5;124myou can\u001b[39m\u001b[38;5;124m'\u001b[39m\u001b[38;5;124mt divide by 0!\u001b[39m\u001b[38;5;124m\"\u001b[39m\n\u001b[1;32m      8\u001b[0m     \u001b[38;5;28;01mreturn\u001b[39;00m(x\u001b[38;5;241m/\u001b[39my)\n\u001b[0;32m---> 10\u001b[0m \u001b[43mdivide\u001b[49m\u001b[43m(\u001b[49m\u001b[43mx\u001b[49m\u001b[43m,\u001b[49m\u001b[43m \u001b[49m\u001b[43my\u001b[49m\u001b[43m)\u001b[49m\n",
      "Cell \u001b[0;32mIn[137], line 7\u001b[0m, in \u001b[0;36mdivide\u001b[0;34m(x, y)\u001b[0m\n\u001b[1;32m      5\u001b[0m z \u001b[38;5;241m=\u001b[39m \u001b[38;5;241m0\u001b[39m \u001b[38;5;129;01min\u001b[39;00m y\n\u001b[1;32m      6\u001b[0m \u001b[38;5;28mprint\u001b[39m(z)\n\u001b[0;32m----> 7\u001b[0m \u001b[38;5;28;01massert\u001b[39;00m z \u001b[38;5;241m!=\u001b[39m \u001b[38;5;28;01mTrue\u001b[39;00m, \u001b[38;5;124m\"\u001b[39m\u001b[38;5;124myou can\u001b[39m\u001b[38;5;124m'\u001b[39m\u001b[38;5;124mt divide by 0!\u001b[39m\u001b[38;5;124m\"\u001b[39m\n\u001b[1;32m      8\u001b[0m \u001b[38;5;28;01mreturn\u001b[39;00m(x\u001b[38;5;241m/\u001b[39my)\n",
      "\u001b[0;31mAssertionError\u001b[0m: you can't divide by 0!"
     ]
    }
   ],
   "source": [
    "x=np.array([36, 32, 44, 76, 27])\n",
    "y=np.array([0, 46, 9, 24, 73])\n",
    "\n",
    "def divide(x,y):\n",
    "    z = 0 in y\n",
    "    print(z)\n",
    "    assert z != True, \"you can't divide by 0!\"\n",
    "    return(x/y)\n",
    "\n",
    "divide(x, y)"
   ]
  },
  {
   "cell_type": "markdown",
   "id": "fe5aff00",
   "metadata": {},
   "source": [
    "## Exercise 2 :  A better calculator II"
   ]
  },
  {
   "cell_type": "code",
   "execution_count": 7,
   "id": "51df8f58",
   "metadata": {},
   "outputs": [
    {
     "name": "stdout",
     "output_type": "stream",
     "text": [
      "[18.          0.69565217  4.88888889  3.16666667  0.36986301]\n"
     ]
    },
    {
     "data": {
      "text/plain": [
       "array([18.        ,  0.69565217,  4.88888889,  3.16666667,  0.36986301])"
      ]
     },
     "execution_count": 7,
     "metadata": {},
     "output_type": "execute_result"
    }
   ],
   "source": [
    "np.seterr(all='raise')\n",
    "\n",
    "x=np.array([36, 32, 44, 76, 27])\n",
    "y=np.array([2, 46, 9, 24, 73])\n",
    "\n",
    "def add(x, y):\n",
    "    return x+y\n",
    "\n",
    "def subtract(x, y):\n",
    "    return x-y\n",
    "\n",
    "def multiply(x, y):\n",
    "    return x*y\n",
    "\n",
    "def divide(x, y):\n",
    "    return x/y\n",
    "\n",
    "try: \n",
    "    divide(x, y)\n",
    "    print(divide(x, y))\n",
    "except:\n",
    "    print(\">>>>\")\n",
    "\n",
    "divide(x, y)"
   ]
  },
  {
   "cell_type": "code",
   "execution_count": 19,
   "id": "b5e6308d",
   "metadata": {},
   "outputs": [
    {
     "name": "stdout",
     "output_type": "stream",
     "text": [
      "[array([       inf, 0.69565217, 4.88888889, 3.16666667, 0.36986301])]\n"
     ]
    },
    {
     "name": "stderr",
     "output_type": "stream",
     "text": [
      "/var/folders/s7/krzz8k4n5tq00twfqgws3fcm0000gn/T/ipykernel_42203/4250014244.py:8: RuntimeWarning: divide by zero encountered in divide\n",
      "  a = x/y\n"
     ]
    }
   ],
   "source": [
    "x=np.array([36, 32, 44, 76, 27])\n",
    "y=np.array([0, 46, 9, 24, 73])\n",
    "solved_arr =[]\n",
    "\n",
    "\n",
    "\n",
    "try:\n",
    "    a = x/y\n",
    "    solved_arr.append(a)\n",
    "    assert any(y != 0), \"y = 0\"\n",
    "except:\n",
    "    solved_arr.append('this operation is undefined')\n",
    "            \n",
    "print(solved_arr)"
   ]
  },
  {
   "cell_type": "code",
   "execution_count": 27,
   "id": "e436950a",
   "metadata": {},
   "outputs": [
    {
     "name": "stderr",
     "output_type": "stream",
     "text": [
      "/var/folders/s7/krzz8k4n5tq00twfqgws3fcm0000gn/T/ipykernel_42203/1870858195.py:7: RuntimeWarning: divide by zero encountered in divide\n",
      "  x/y\n"
     ]
    },
    {
     "data": {
      "text/plain": [
       "array([       inf, 0.69565217, 4.88888889, 3.16666667, 0.36986301])"
      ]
     },
     "execution_count": 27,
     "metadata": {},
     "output_type": "execute_result"
    }
   ],
   "source": [
    "def divide(x,y):\n",
    "    try:\n",
    "        x/y\n",
    "        assert any(y!=0)\n",
    "    except:\n",
    "        np.nan\n",
    "x/y"
   ]
  },
  {
   "cell_type": "code",
   "execution_count": null,
   "id": "8a98ecaa",
   "metadata": {},
   "outputs": [],
   "source": []
  }
 ],
 "metadata": {
  "kernelspec": {
   "display_name": "Python 3 (ipykernel)",
   "language": "python",
   "name": "python3"
  },
  "language_info": {
   "codemirror_mode": {
    "name": "ipython",
    "version": 3
   },
   "file_extension": ".py",
   "mimetype": "text/x-python",
   "name": "python",
   "nbconvert_exporter": "python",
   "pygments_lexer": "ipython3",
   "version": "3.10.8"
  },
  "toc": {
   "base_numbering": 1,
   "nav_menu": {},
   "number_sections": true,
   "sideBar": true,
   "skip_h1_title": false,
   "title_cell": "Table of Contents",
   "title_sidebar": "Contents",
   "toc_cell": false,
   "toc_position": {},
   "toc_section_display": true,
   "toc_window_display": false
  },
  "varInspector": {
   "cols": {
    "lenName": 16,
    "lenType": 16,
    "lenVar": 40
   },
   "kernels_config": {
    "python": {
     "delete_cmd_postfix": "",
     "delete_cmd_prefix": "del ",
     "library": "var_list.py",
     "varRefreshCmd": "print(var_dic_list())"
    },
    "r": {
     "delete_cmd_postfix": ") ",
     "delete_cmd_prefix": "rm(",
     "library": "var_list.r",
     "varRefreshCmd": "cat(var_dic_list()) "
    }
   },
   "types_to_exclude": [
    "module",
    "function",
    "builtin_function_or_method",
    "instance",
    "_Feature"
   ],
   "window_display": false
  },
  "vscode": {
   "interpreter": {
    "hash": "31f2aee4e71d21fbe5cf8b01ff0e069b9275f58929596ceb00d14d90e3e16cd6"
   }
  }
 },
 "nbformat": 4,
 "nbformat_minor": 5
}
