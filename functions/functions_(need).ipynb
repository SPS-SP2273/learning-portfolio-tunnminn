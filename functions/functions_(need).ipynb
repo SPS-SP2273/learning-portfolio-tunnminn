{
 "cells": [
  {
   "cell_type": "markdown",
   "id": "123456",
   "metadata": {},
   "source": [
    "<div style=\"text-align:left;font-size:2em\"><span style=\"font-weight:bolder;font-size:1.25em\">SP2273 | Learning Portfolio</span><br><br><span style=\"font-weight:bold;color:darkred\">Functions (Need)</span></div>"
   ]
  },
  {
   "cell_type": "markdown",
   "id": "410ba9d9",
   "metadata": {},
   "source": [
    "## 1 User defined functions"
   ]
  },
  {
   "cell_type": "markdown",
   "id": "26554b91",
   "metadata": {},
   "source": [
    "### 1.1 Named functions that return"
   ]
  },
  {
   "cell_type": "code",
   "execution_count": 6,
   "id": "31739199",
   "metadata": {},
   "outputs": [
    {
     "data": {
      "text/plain": [
       "'Hello aqua'"
      ]
     },
     "execution_count": 6,
     "metadata": {},
     "output_type": "execute_result"
    }
   ],
   "source": [
    "#print() is also considered a python function\n",
    "\n",
    "def greeting(name):\n",
    "    if name == 'Batman':\n",
    "        return \"Hello Batman, it's good to see you\"\n",
    "    else:\n",
    "        return f'Hello {name}'\n",
    "\n",
    "greeting('aqua')\n"
   ]
  },
  {
   "cell_type": "code",
   "execution_count": 7,
   "id": "ca5cc668",
   "metadata": {},
   "outputs": [],
   "source": [
    "import numpy as np\n",
    "\n",
    "\n",
    "def basic_stats(numbers):\n",
    "    np_numbers = np.array(numbers)\n",
    "    return np_numbers.max(), np_numbers.min(), np_numbers.mean()"
   ]
  },
  {
   "cell_type": "markdown",
   "id": "030fbc9e",
   "metadata": {},
   "source": [
    "### 1.2 Named functions that don’t return"
   ]
  },
  {
   "cell_type": "code",
   "execution_count": null,
   "id": "40a6d0ec",
   "metadata": {},
   "outputs": [],
   "source": [
    "\n"
   ]
  },
  {
   "cell_type": "markdown",
   "id": "d370adee",
   "metadata": {},
   "source": [
    "### 1.3 Anonymous functions"
   ]
  },
  {
   "cell_type": "code",
   "execution_count": 17,
   "id": "2353c77b",
   "metadata": {},
   "outputs": [
    {
     "data": {
      "text/plain": [
       "'Hello viper!'"
      ]
     },
     "execution_count": 17,
     "metadata": {},
     "output_type": "execute_result"
    }
   ],
   "source": [
    "my_short_function = lambda name: f\"Hello {name}!\"\n",
    "my_short_function(name='viper')"
   ]
  },
  {
   "cell_type": "code",
   "execution_count": 25,
   "id": "0b14db0c",
   "metadata": {},
   "outputs": [
    {
     "data": {
      "text/plain": [
       "[[0, 9, 19],\n",
       " [1, 8, 18],\n",
       " [2, 7, 17],\n",
       " [3, 6, 16],\n",
       " [4, 5, 15],\n",
       " [5, 4, 14],\n",
       " [6, 3, 13],\n",
       " [7, 2, 12],\n",
       " [8, 1, 11],\n",
       " [9, 0, 10]]"
      ]
     },
     "execution_count": 25,
     "metadata": {},
     "output_type": "execute_result"
    }
   ],
   "source": [
    "numbers=[[9, 0, 10],\n",
    "         [8, 1, 11],\n",
    "         [7, 2, 12],\n",
    "         [6, 3, 13],\n",
    "         [5, 4, 14],\n",
    "         [4, 5, 15],\n",
    "         [3, 6, 16],\n",
    "         [2, 7, 17],\n",
    "         [1, 8, 18],\n",
    "         [0, 9, 19]]\n",
    "\n",
    "sorted(numbers)                         #Sort by comparing the default key \n",
    "                                        # (i.e. the 1st element) \n",
    "    \n",
    "sorted(numbers, key=lambda x:x[0])"
   ]
  },
  {
   "cell_type": "markdown",
   "id": "608f2cd0",
   "metadata": {},
   "source": [
    "### 1.4 Optional arguments"
   ]
  },
  {
   "cell_type": "code",
   "execution_count": 28,
   "id": "9c478b44",
   "metadata": {},
   "outputs": [
    {
     "name": "stdout",
     "output_type": "stream",
     "text": [
      "Hello Batman! So nice to meet you!\n"
     ]
    }
   ],
   "source": [
    "def greeting(name = 'No one'):\n",
    "    if name == 'Batman':\n",
    "        print(f'Hello {name}! So nice to meet you!')\n",
    "    else:\n",
    "        print(f'Hello {name}!')\n",
    "greeting('Batman')"
   ]
  },
  {
   "cell_type": "code",
   "execution_count": 29,
   "id": "4f6fb9c6",
   "metadata": {},
   "outputs": [],
   "source": [
    "?print"
   ]
  },
  {
   "cell_type": "code",
   "execution_count": 30,
   "id": "1d1fd536",
   "metadata": {},
   "outputs": [
    {
     "name": "stdout",
     "output_type": "stream",
     "text": [
      "I___am___Batman\n"
     ]
    }
   ],
   "source": [
    "print('I', 'am', 'Batman', sep='___')"
   ]
  },
  {
   "cell_type": "markdown",
   "id": "d0ec5259",
   "metadata": {},
   "source": [
    "## 2 The importance of functions?"
   ]
  },
  {
   "cell_type": "markdown",
   "id": "41077e68",
   "metadata": {},
   "source": [
    "### 2.1 An argument for functions"
   ]
  },
  {
   "cell_type": "markdown",
   "id": "a8d5a7da",
   "metadata": {},
   "source": [
    "Abstraction of a function\n",
    "- condensing something highly complex with numerous moving parts into something more comprehensible or simply does its job\n",
    "\n",
    "Ensuring that the code is reusable meaning it can be applied to various scenarios and is simple enough to replicate.\n",
    "\n",
    "Changes to a function only occur at a few places, and ensures that debugging a code is simpler.\n"
   ]
  },
  {
   "cell_type": "markdown",
   "id": "c0f9dad4",
   "metadata": {},
   "source": [
    "### 2.2 A word of caution"
   ]
  },
  {
   "cell_type": "code",
   "execution_count": null,
   "id": "58d06174",
   "metadata": {},
   "outputs": [],
   "source": [
    "\n",
    "# Your code here\n"
   ]
  },
  {
   "cell_type": "markdown",
   "id": "f4f50d84",
   "metadata": {},
   "source": [
    "## Exercise 1 :  Do you know why?"
   ]
  },
  {
   "cell_type": "markdown",
   "id": "9c479d56",
   "metadata": {},
   "source": [
    "The function uses if name == 'Batman'\n",
    "The usage of a == indicates a True or False output where only if it is True will the desired output be displayed. \n",
    "\n",
    "\n"
   ]
  },
  {
   "cell_type": "markdown",
   "id": "af14d02b",
   "metadata": {},
   "source": [
    "## Exercise 2 :  Calculator functions"
   ]
  },
  {
   "cell_type": "code",
   "execution_count": 8,
   "id": "c9cd0af1",
   "metadata": {},
   "outputs": [
    {
     "name": "stdout",
     "output_type": "stream",
     "text": [
      "[0.5625     0.51515152 0.78571429 3.16666667 0.36986301]\n",
      "[100 100 100 100 100]\n",
      "[-28 -32 -12  52 -46]\n"
     ]
    }
   ],
   "source": [
    "import numpy as np\n",
    "x=np.array([36, 34, 44, 76, 27])\n",
    "y=np.array([64, 66, 56, 24, 73])\n",
    "\n",
    "def add(x,y):\n",
    "    return(x + y)\n",
    "\n",
    "def subtract(x,y):\n",
    "    return (x-y)\n",
    "\n",
    "def multiply(x, y):\n",
    "    return(x*y)\n",
    "\n",
    "def divide(x,y): \n",
    "    if any(ele == 0 for ele in y):\n",
    "        print('You dumbass')\n",
    "        exit()\n",
    "    else:\n",
    "        return(x/y)\n",
    "\n",
    "print(divide(x,y))\n",
    "print(add(x, y))\n",
    "print(subtract(x, y))\n"
   ]
  },
  {
   "cell_type": "markdown",
   "id": "a3592c51",
   "metadata": {},
   "source": [
    "## Exercise 3 :  max_info() with NumPy"
   ]
  },
  {
   "cell_type": "code",
   "execution_count": 3,
   "id": "53f0ad22",
   "metadata": {},
   "outputs": [
    {
     "data": {
      "text/plain": [
       "(83, 2)"
      ]
     },
     "execution_count": 3,
     "metadata": {},
     "output_type": "execute_result"
    }
   ],
   "source": [
    "numbers = [40, 27, 83, 44, 74, 51, 76, 77, 10, 49]\n",
    "def max_info(numbers):\n",
    "    result = np.max(numbers), np.argmax(numbers)\n",
    "    return result\n",
    "max_info(numbers)\n",
    "\n"
   ]
  }
 ],
 "metadata": {
  "kernelspec": {
   "display_name": "Python 3 (ipykernel)",
   "language": "python",
   "name": "python3"
  },
  "language_info": {
   "codemirror_mode": {
    "name": "ipython",
    "version": 3
   },
   "file_extension": ".py",
   "mimetype": "text/x-python",
   "name": "python",
   "nbconvert_exporter": "python",
   "pygments_lexer": "ipython3",
   "version": "3.10.8"
  },
  "toc": {
   "base_numbering": 1,
   "nav_menu": {},
   "number_sections": true,
   "sideBar": true,
   "skip_h1_title": false,
   "title_cell": "Table of Contents",
   "title_sidebar": "Contents",
   "toc_cell": false,
   "toc_position": {},
   "toc_section_display": true,
   "toc_window_display": false
  },
  "varInspector": {
   "cols": {
    "lenName": 16,
    "lenType": 16,
    "lenVar": 40
   },
   "kernels_config": {
    "python": {
     "delete_cmd_postfix": "",
     "delete_cmd_prefix": "del ",
     "library": "var_list.py",
     "varRefreshCmd": "print(var_dic_list())"
    },
    "r": {
     "delete_cmd_postfix": ") ",
     "delete_cmd_prefix": "rm(",
     "library": "var_list.r",
     "varRefreshCmd": "cat(var_dic_list()) "
    }
   },
   "types_to_exclude": [
    "module",
    "function",
    "builtin_function_or_method",
    "instance",
    "_Feature"
   ],
   "window_display": false
  },
  "vscode": {
   "interpreter": {
    "hash": "31f2aee4e71d21fbe5cf8b01ff0e069b9275f58929596ceb00d14d90e3e16cd6"
   }
  }
 },
 "nbformat": 4,
 "nbformat_minor": 5
}
